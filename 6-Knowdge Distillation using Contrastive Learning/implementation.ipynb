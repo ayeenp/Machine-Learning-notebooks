{
 "cells": [
  {
   "cell_type": "markdown",
   "id": "be138f6f",
   "metadata": {
    "id": "be138f6f",
    "papermill": {
     "duration": 0.02181,
     "end_time": "2024-12-18T17:13:30.324107",
     "exception": false,
     "start_time": "2024-12-18T17:13:30.302297",
     "status": "completed"
    },
    "tags": []
   },
   "source": [
    "# Knowdge Distillation using Contrastive Learning\n"
   ]
  },
  {
   "cell_type": "markdown",
   "id": "376ecc79",
   "metadata": {
    "id": "376ecc79",
    "papermill": {
     "duration": 0.014958,
     "end_time": "2024-12-18T17:13:30.355437",
     "exception": false,
     "start_time": "2024-12-18T17:13:30.340479",
     "status": "completed"
    },
    "tags": []
   },
   "source": [
    " Ayeen Poostforoushan"
   ]
  },
  {
   "cell_type": "markdown",
   "id": "a1dba4d2",
   "metadata": {
    "id": "a1dba4d2",
    "papermill": {
     "duration": 0.014965,
     "end_time": "2024-12-18T17:13:30.385132",
     "exception": false,
     "start_time": "2024-12-18T17:13:30.370167",
     "status": "completed"
    },
    "tags": []
   },
   "source": [
    "In this exercise, we aim to distill knowledge from a large monolingual model into a smaller multilingual model using contrastive learning, specifically leveraging the CLIP model loss.\n",
    "\n",
    "We employ a small paired English-Persian dataset to define the loss pairs for our CLIP training. Given the substantial dataset size and batch size typically required for CLIP's loss computation (exceeding 19,000 samples per batch in standard tasks), which is impractical for our setup on Colab, we use a reduced batch size to focus on learning the procedure rather than achieving optimal performance, so we don't expect actual real-world results, only the training prcodure."
   ]
  },
  {
   "cell_type": "markdown",
   "id": "90e95f9e",
   "metadata": {
    "id": "90e95f9e",
    "papermill": {
     "duration": 0.014841,
     "end_time": "2024-12-18T17:13:30.414686",
     "exception": false,
     "start_time": "2024-12-18T17:13:30.399845",
     "status": "completed"
    },
    "tags": []
   },
   "source": [
    "CLIP (Contrastive Language-Image Pretraining) is a foundational model introduced by OpenAI to bridge the gap between text and image modalities. By aligning text descriptions and corresponding images in a shared embedding space, CLIP achieves remarkable zero-shot generalization capabilities across a wide range of tasks. It is trained on a massive dataset of image-text pairs using contrastive loss, ensuring that image embeddings align closely with their corresponding textual descriptions while remaining distinct from unrelated samples. This cross-modal alignment enables CLIP to perform tasks like image retrieval, captioning, and classification with minimal fine-tuning.\n",
    "\n",
    "The CLIP loss plays a crucial role in training the model by implementing a cross-entropy loss function in the contrastive learning framework. This loss operates on paired data, where each image-text pair is treated as a positive match, while all other pair combinations in the batch are considered negatives. The loss ensures that positive pairs receive high similarity scores, while negatives are penalized. However, achieving optimal results with CLIP loss often requires large batch sizes to provide sufficient negative samples, which can be computationally intensive. This makes training with limited resources challenging, necessitating adaptations such as smaller batch sizes or alternative strategies to approximate the training dynamics.\n",
    "\n",
    "\n",
    "Knowledge distillation is a technique used in machine learning to transfer knowledge from a large, complex model (the \"teacher\") to a smaller, more efficient model (the \"student\"). The primary goal of this process is to retain the performance and accuracy of the larger model while significantly reducing computational and memory requirements. This is achieved by training the student model to mimic the outputs of the teacher model, often through techniques such as matching soft probability distributions or intermediate representations. Knowledge distillation has become an essential approach in deploying machine learning models on resource-constrained devices such as smartphones and edge devices.\n",
    "\n",
    "In practice, knowledge distillation is not limited to replicating predictions; it can also involve transferring knowledge about internal features or learned representations.\n",
    "\n",
    "\n",
    "### Challenges in Resource-Constrained Settings\n",
    "CLIP’s reliance on large-scale datasets and batch sizes makes direct implementation computationally demanding. This exercise demonstrates an adaptation of the process, reducing batch size and dataset size to provide a practical understanding of the training procedure. While this approach sacrifices performance and real-world applicability, it highlights the mechanics of using CLIP loss for contrastive learning and lays the foundation for extending the process to larger datasets and batch sizes in future applications.\n",
    "\n",
    "\n",
    "\n",
    "### About CLIP and Contrastive Learning\n",
    "CLIP, developed by OpenAI, bridges the gap between text and image modalities by aligning corresponding embeddings in a shared space. It leverages contrastive loss to train on image-text pairs, ensuring that embeddings of positive pairs (e.g., an image and its corresponding caption) are highly similar, while embeddings of unrelated pairs remain distinct. The cross-entropy-based contrastive loss evaluates the similarity between positive pairs while penalizing mismatches for all other combinations within a batch.\n",
    "\n",
    "### Key aspects of CLIP loss include:\n",
    "\n",
    "- Positive Pairing: Encourages high similarity scores for embeddings of paired text and image data.\n",
    "- Negative Sampling: Penalizes mismatched pairs within the batch, requiring large batch sizes for effective performance due to the need for a diverse set of negative samples.\n",
    "\n"
   ]
  },
  {
   "cell_type": "markdown",
   "id": "e7da461e",
   "metadata": {
    "id": "e7da461e",
    "papermill": {
     "duration": 0.014905,
     "end_time": "2024-12-18T17:13:30.474341",
     "exception": false,
     "start_time": "2024-12-18T17:13:30.459436",
     "status": "completed"
    },
    "tags": []
   },
   "source": [
    "\n",
    "\n",
    "## Setup\n"
   ]
  },
  {
   "cell_type": "markdown",
   "id": "06e48967",
   "metadata": {
    "id": "06e48967",
    "papermill": {
     "duration": 0.014958,
     "end_time": "2024-12-18T17:13:30.503840",
     "exception": false,
     "start_time": "2024-12-18T17:13:30.488882",
     "status": "completed"
    },
    "tags": []
   },
   "source": [
    "We install Required Packages."
   ]
  },
  {
   "cell_type": "code",
   "execution_count": 1,
   "id": "69339c7a",
   "metadata": {
    "colab": {
     "base_uri": "https://localhost:8080/"
    },
    "execution": {
     "iopub.execute_input": "2025-01-20T16:26:23.827692Z",
     "iopub.status.busy": "2025-01-20T16:26:23.827425Z",
     "iopub.status.idle": "2025-01-20T16:26:41.040570Z",
     "shell.execute_reply": "2025-01-20T16:26:41.039511Z",
     "shell.execute_reply.started": "2025-01-20T16:26:23.827661Z"
    },
    "id": "69339c7a",
    "outputId": "412bb8c6-ecc7-4e01-f534-01671603b711",
    "papermill": {
     "duration": 20.264414,
     "end_time": "2024-12-18T17:13:50.783672",
     "exception": false,
     "start_time": "2024-12-18T17:13:30.519258",
     "status": "completed"
    },
    "tags": [],
    "trusted": true
   },
   "outputs": [
    {
     "name": "stdout",
     "output_type": "stream",
     "text": [
      "Downloading...\n",
      "From: https://drive.google.com/uc?id=1MVx_gIkX4tQ8ya2OsHt0mqLmw1Pf2CcK\n",
      "To: /kaggle/working/train.csv\n",
      "100%|██████████████████████████████████████| 7.35M/7.35M [00:00<00:00, 10.6MB/s]\n",
      "Downloading...\n",
      "From: https://drive.google.com/uc?id=1Co-dwJfWw-C_ral0hoAS_X94wN-_vbCj\n",
      "To: /kaggle/working/val.csv\n",
      "100%|██████████████████████████████████████| 2.45M/2.45M [00:00<00:00, 4.51MB/s]\n"
     ]
    }
   ],
   "source": [
    "!pip install -q gdown\n",
    "!gdown \"https://drive.google.com/uc?id=1MVx_gIkX4tQ8ya2OsHt0mqLmw1Pf2CcK\"\n",
    "!gdown \"https://drive.google.com/uc?id=1Co-dwJfWw-C_ral0hoAS_X94wN-_vbCj\""
   ]
  },
  {
   "cell_type": "code",
   "execution_count": 2,
   "id": "70d93c5e",
   "metadata": {
    "colab": {
     "base_uri": "https://localhost:8080/"
    },
    "execution": {
     "iopub.execute_input": "2025-01-20T16:26:41.042178Z",
     "iopub.status.busy": "2025-01-20T16:26:41.041842Z",
     "iopub.status.idle": "2025-01-20T16:27:00.555235Z",
     "shell.execute_reply": "2025-01-20T16:27:00.554512Z",
     "shell.execute_reply.started": "2025-01-20T16:26:41.042144Z"
    },
    "id": "70d93c5e",
    "outputId": "34771739-7998-419a-9457-347f1b490681",
    "papermill": {
     "duration": 24.516699,
     "end_time": "2024-12-18T17:14:15.316512",
     "exception": false,
     "start_time": "2024-12-18T17:13:50.799813",
     "status": "completed"
    },
    "tags": [],
    "trusted": true
   },
   "outputs": [
    {
     "name": "stdout",
     "output_type": "stream",
     "text": [
      "Requirement already satisfied: setuptools in /usr/local/lib/python3.10/dist-packages (75.1.0)\n"
     ]
    },
    {
     "name": "stderr",
     "output_type": "stream",
     "text": [
      "<ipython-input-2-16d6a20cb021>:4: DeprecationWarning: pkg_resources is deprecated as an API. See https://setuptools.pypa.io/en/latest/pkg_resources.html\n",
      "  import pkg_resources\n"
     ]
    },
    {
     "name": "stdout",
     "output_type": "stream",
     "text": [
      "open_clip-torch is NOT installed\n",
      "open_clip-torch was successfully installed.\n",
      "pandas (2.2.2) is installed\n",
      "numpy (1.26.4) is installed\n",
      "matplotlib (3.7.5) is installed\n",
      "transformers (4.47.0) is installed\n",
      "tqdm (4.67.1) is installed\n",
      "torch (2.5.1+cu121) is installed\n",
      "datasets (3.2.0) is installed\n"
     ]
    }
   ],
   "source": [
    "!pip install setuptools\n",
    "import sys\n",
    "import subprocess\n",
    "import pkg_resources\n",
    "\n",
    "def installPackages(packages):\n",
    "    def installPackage(package):\n",
    "        subprocess.check_call([sys.executable, \"-m\", \"pip\", \"install\", package])\n",
    "\n",
    "    for package in REQUIRED_PACKAGES:\n",
    "        try:\n",
    "            dist = pkg_resources.get_distribution(package)\n",
    "            print('{} ({}) is installed'.format(dist.key, dist.version))\n",
    "        except pkg_resources.DistributionNotFound:\n",
    "            print('{} is NOT installed'.format(package))\n",
    "            installPackage(package)\n",
    "            print('{} was successfully installed.'.format(package))\n",
    "\n",
    "REQUIRED_PACKAGES = [\n",
    "    'open_clip-torch',\n",
    "    'pandas',\n",
    "    'numpy',\n",
    "    'matplotlib',\n",
    "    'transformers',\n",
    "    'tqdm',\n",
    "    'torch',\n",
    "    'datasets',\n",
    "]\n",
    "\n",
    "installPackages(REQUIRED_PACKAGES)\n",
    "\n",
    "import gc\n",
    "import itertools\n",
    "import re\n",
    "import math\n",
    "from collections import Counter\n",
    "import random\n",
    "import string\n",
    "import uuid\n",
    "\n",
    "import numpy as np\n",
    "import pandas as pd\n",
    "import matplotlib.pyplot as plt\n",
    "\n",
    "import open_clip\n",
    "from open_clip import model as TE\n",
    "\n",
    "import torch\n",
    "import torch.nn as nn\n",
    "import torch.nn.functional as F\n",
    "from torch.utils.data import DataLoader\n",
    "from torch.optim.lr_scheduler import ReduceLROnPlateau\n",
    "\n",
    "from datasets import load_dataset, Dataset, Features, Array2D, Value\n",
    "from transformers import AutoConfig, AutoTokenizer, AutoModel, TFAutoModel\n",
    "\n",
    "from tqdm import tqdm"
   ]
  },
  {
   "cell_type": "markdown",
   "id": "f4c39c86",
   "metadata": {
    "id": "f4c39c86",
    "papermill": {
     "duration": 0.01563,
     "end_time": "2024-12-18T17:14:15.349709",
     "exception": false,
     "start_time": "2024-12-18T17:14:15.334079",
     "status": "completed"
    },
    "tags": []
   },
   "source": [
    "Beware to use cuda for training!"
   ]
  },
  {
   "cell_type": "code",
   "execution_count": 3,
   "id": "fd519039",
   "metadata": {
    "execution": {
     "iopub.execute_input": "2025-01-20T16:27:00.556715Z",
     "iopub.status.busy": "2025-01-20T16:27:00.556167Z",
     "iopub.status.idle": "2025-01-20T16:27:00.560931Z",
     "shell.execute_reply": "2025-01-20T16:27:00.560048Z",
     "shell.execute_reply.started": "2025-01-20T16:27:00.556681Z"
    },
    "id": "fd519039",
    "papermill": {
     "duration": 0.024557,
     "end_time": "2024-12-18T17:14:15.389794",
     "exception": false,
     "start_time": "2024-12-18T17:14:15.365237",
     "status": "completed"
    },
    "tags": [],
    "trusted": true
   },
   "outputs": [],
   "source": [
    "def getDevice(which=\"cuda:0\", yellAtCpu=True):\n",
    "    if torch.cuda.is_available():\n",
    "        device = torch.device(which)\n",
    "    else:\n",
    "        if yellAtCpu:\n",
    "             raise Exception(\"I won't run on CPU!\")\n",
    "        device = torch.device(\"cpu\")\n",
    "\n",
    "    return device"
   ]
  },
  {
   "cell_type": "markdown",
   "id": "67a2eff9",
   "metadata": {
    "id": "67a2eff9",
    "papermill": {
     "duration": 0.016217,
     "end_time": "2024-12-18T17:14:15.422727",
     "exception": false,
     "start_time": "2024-12-18T17:14:15.406510",
     "status": "completed"
    },
    "tags": []
   },
   "source": [
    "#### Configs"
   ]
  },
  {
   "cell_type": "markdown",
   "id": "75c787a8",
   "metadata": {
    "id": "75c787a8",
    "papermill": {
     "duration": 0.016978,
     "end_time": "2024-12-18T17:14:15.455652",
     "exception": false,
     "start_time": "2024-12-18T17:14:15.438674",
     "status": "completed"
    },
    "tags": []
   },
   "source": [
    "These are our training configurations, read them!"
   ]
  },
  {
   "cell_type": "code",
   "execution_count": 4,
   "id": "802d832e",
   "metadata": {
    "execution": {
     "iopub.execute_input": "2025-01-20T16:27:00.562967Z",
     "iopub.status.busy": "2025-01-20T16:27:00.562692Z",
     "iopub.status.idle": "2025-01-20T16:27:00.642717Z",
     "shell.execute_reply": "2025-01-20T16:27:00.641985Z",
     "shell.execute_reply.started": "2025-01-20T16:27:00.562940Z"
    },
    "id": "802d832e",
    "papermill": {
     "duration": 0.11541,
     "end_time": "2024-12-18T17:14:15.591685",
     "exception": false,
     "start_time": "2024-12-18T17:14:15.476275",
     "status": "completed"
    },
    "tags": [],
    "trusted": true
   },
   "outputs": [],
   "source": [
    "def Configs():\n",
    "    return {\n",
    "        \"device\": getDevice(),\n",
    "        \"reference_checkPoint\" : \"EVA02-E-14-plus\",                # teacher\n",
    "        \"candidate_checkpoint\" : \"setu4993/smaller-LaBSE\",         # student\n",
    "        \"train_path\" : \"train.csv\",\n",
    "        \"val_path\" : \"val.csv\",\n",
    "        \"save_path\" : \"./best-model.pth\",\n",
    "        \"english\" : \"en\",                                         # dont mind them\n",
    "        \"persian\" : \"fa\",\n",
    "        \"batch_size\": 128,                                        # should have been really big, but we can't here\n",
    "        \"lr\": 1e-4,\n",
    "        \"epochs\": 5,                                               # 40 minute per epoch\n",
    "        \"tok_percentile\" : 99,\n",
    "        \"temperature\": 20,\n",
    "        \"dropout\": 0.05,\n",
    "        \"unfreezed_layers\" : 10,\n",
    "        \"weight_decay\": 1e-5,\n",
    "        \"patience\": 1,\n",
    "        \"factor\" : 0.8,\n",
    "        \"reference_embedding\": 1024,                               # DONT MIND THESE\n",
    "        \"reference_context_length\" : 77,\n",
    "        \"reference_vocab_size\" : 49408,\n",
    "        \"reference_heads\" : 20,\n",
    "        \"reference_width\" : 1280,\n",
    "        \"reference_layers\" : 32,\n",
    "        \"cls_token_index\" : 0,\n",
    "        \"project_to\" : 1024,\n",
    "    }\n",
    "\n",
    "configs = Configs()"
   ]
  },
  {
   "cell_type": "markdown",
   "id": "7b95e360",
   "metadata": {
    "id": "7b95e360",
    "papermill": {
     "duration": 0.015595,
     "end_time": "2024-12-18T17:14:15.623791",
     "exception": false,
     "start_time": "2024-12-18T17:14:15.608196",
     "status": "completed"
    },
    "tags": []
   },
   "source": [
    "## Question Box\n",
    "1- Why do we use temperature in training using contrastive learning?\n",
    "\n",
    "It scales the logits before applying softmax, controlling the smoothness of the probability distribution. This helps stabilize training and improve model performance.\n",
    "<br/>\n",
    "2- Why do we need to freeze some layers of a model? mention 2 reasons.\n",
    "\n",
    "Transfer Learning: Retains pre-trained features from a large dataset, reducing overfitting on smaller datasets.\n",
    "Efficiency: Reduces the number of parameters to update, lowering computational cost and speeding up training.\n",
    "<br/>\n",
    "3- Read the whole code and find out what tok_percentile is used for.\n",
    "\n",
    "It's used to determine the percentile of token lengths for truncation or padding during tokenization. This helps manage sequence lengths efficiently, improving training efficiency and memory usage."
   ]
  },
  {
   "cell_type": "markdown",
   "id": "6a9cfd8b",
   "metadata": {
    "id": "6a9cfd8b",
    "papermill": {
     "duration": 0.015679,
     "end_time": "2024-12-18T17:14:15.655199",
     "exception": false,
     "start_time": "2024-12-18T17:14:15.639520",
     "status": "completed"
    },
    "tags": []
   },
   "source": [
    "## Data and Preprocessing"
   ]
  },
  {
   "cell_type": "code",
   "execution_count": 5,
   "id": "5d84bc5a",
   "metadata": {
    "execution": {
     "iopub.execute_input": "2025-01-20T16:27:00.644264Z",
     "iopub.status.busy": "2025-01-20T16:27:00.643951Z",
     "iopub.status.idle": "2025-01-20T16:27:00.671694Z",
     "shell.execute_reply": "2025-01-20T16:27:00.670883Z",
     "shell.execute_reply.started": "2025-01-20T16:27:00.644228Z"
    },
    "id": "5d84bc5a",
    "papermill": {
     "duration": 0.031369,
     "end_time": "2024-12-18T17:14:15.702439",
     "exception": false,
     "start_time": "2024-12-18T17:14:15.671070",
     "status": "completed"
    },
    "tags": [],
    "trusted": true
   },
   "outputs": [],
   "source": [
    "def getDatasetsCSV(prevEnCol, prevFaCol, newEnCol, newFaCol, trainPath, valPath):\n",
    "    df = pd.read_csv(trainPath)\n",
    "    dfVal = pd.read_csv(valPath)\n",
    "\n",
    "    if df.empty:\n",
    "        raise ValueError(\"Training dataset is empty or missing\")\n",
    "\n",
    "    if dfVal.empty:\n",
    "        raise ValueError(\"Validation dataset is empty or missing\")\n",
    "\n",
    "    dfTraind = df.loc[:, [prevEnCol, prevFaCol]].rename(columns={prevEnCol: newEnCol, prevFaCol: newFaCol})\n",
    "    dfVal = dfVal.loc[:, [prevEnCol, prevFaCol]].rename(columns={prevEnCol: newEnCol, prevFaCol: newFaCol})\n",
    "\n",
    "    datasetTrain = Dataset.from_pandas(dfTraind)\n",
    "    datasetVal = Dataset.from_pandas(dfVal)\n",
    "\n",
    "    return datasetTrain, datasetVal\n",
    "\n",
    "def getDsByLang(persianCol, englishCol):\n",
    "    def getPersianDs(dataset):\n",
    "        return dataset[persianCol]\n",
    "\n",
    "    def getEnglishDs(dataset):\n",
    "        return dataset[englishCol]\n",
    "\n",
    "    getPersianDs.label = persianCol\n",
    "    getEnglishDs.label = englishCol\n",
    "\n",
    "    return getPersianDs, getEnglishDs\n",
    "\n",
    "class Normalizer():\n",
    "    def __init__(self):\n",
    "        translation_src = ' ىكي“”0123456789%إأآئيؤةك'\n",
    "        translation_dst = ' یکی\"\"۰۱۲۳۴۵۶۷۸۹٪اااییوهک'\n",
    "\n",
    "        self.translations = str.maketrans(translation_src, translation_dst)\n",
    "\n",
    "        patterns = [\n",
    "            (r' {2,}', ' '),  # remove extra spaces\n",
    "            (r'\\n+', ' '),  # replace newlines with space\n",
    "            (r'\\u200c+', ' '),  # replace ZWNJs with space\n",
    "            (r'[ـ\\r]', '')  # remove keshide, carriage returns\n",
    "        ]\n",
    "\n",
    "        self.character_refinement_patterns = [(re.compile(pattern), repl) for pattern, repl in patterns]\n",
    "\n",
    "    def normalizeFa(self, text):\n",
    "        text = text.lower().translate(self.translations)\n",
    "        text = re.sub('[^a-zA-Z۰-۹آ-ی ]', ' ', text)\n",
    "\n",
    "        for pattern, repl in self.character_refinement_patterns:\n",
    "            text = pattern.sub(repl, text)\n",
    "        return text.strip()\n",
    "\n",
    "    def normalizeEn(self, text):\n",
    "        text = text.lower()\n",
    "        text = text.translate(str.maketrans('', '', string.punctuation)) # Remove punctuation\n",
    "        return text\n",
    "\n",
    "def applyPreprocess(datasets, configs=configs, Normalizer=Normalizer):\n",
    "    def applyRowNormalization(example):\n",
    "        example[configs['persian']] = normalizer.normalizeFa(example[configs['persian']])\n",
    "        example[configs['english']] = normalizer.normalizeEn(example[configs['english']])\n",
    "\n",
    "        return example\n",
    "\n",
    "    normalizer = Normalizer()\n",
    "\n",
    "    newDatasets = []\n",
    "    for dataset in datasets:\n",
    "        newDatasets.append(dataset.map(applyRowNormalization))\n",
    "\n",
    "    return newDatasets\n",
    "\n",
    "def preprocessSentence(text, lang, mostFreq=None, Normalizer=Normalizer, configs=configs):\n",
    "    normalizer = Normalizer()\n",
    "    if lang == configs['persian']:\n",
    "        normalized = normalizer.normalizeFa(text)\n",
    "    elif lang == configs['english']:\n",
    "        normalized = normalizer.normalizeEn(text)\n",
    "    else:\n",
    "        raise ValueError(\"Not supported lang\")\n",
    "\n",
    "    return normalized"
   ]
  },
  {
   "cell_type": "markdown",
   "id": "86190e87",
   "metadata": {
    "id": "86190e87",
    "papermill": {
     "duration": 0.016557,
     "end_time": "2024-12-18T17:14:15.735930",
     "exception": false,
     "start_time": "2024-12-18T17:14:15.719373",
     "status": "completed"
    },
    "tags": []
   },
   "source": [
    "## Utils\n",
    "### TODO: Complete these Utility functions (10pts)"
   ]
  },
  {
   "cell_type": "code",
   "execution_count": 6,
   "id": "7b0c992a",
   "metadata": {
    "execution": {
     "iopub.execute_input": "2025-01-20T16:27:00.672800Z",
     "iopub.status.busy": "2025-01-20T16:27:00.672535Z",
     "iopub.status.idle": "2025-01-20T16:27:00.685827Z",
     "shell.execute_reply": "2025-01-20T16:27:00.685091Z",
     "shell.execute_reply.started": "2025-01-20T16:27:00.672778Z"
    },
    "id": "7b0c992a",
    "papermill": {
     "duration": 0.025354,
     "end_time": "2024-12-18T17:14:15.778667",
     "exception": false,
     "start_time": "2024-12-18T17:14:15.753313",
     "status": "completed"
    },
    "tags": [],
    "trusted": true
   },
   "outputs": [],
   "source": [
    "def getClsToken(tensor, configs=configs):\n",
    "    \"\"\"\n",
    "    Extracts the classification (CLS) token from the input tensor.\n",
    "\n",
    "    Parameters:\n",
    "        tensor (torch.Tensor): The input tensor of shape (batch_size, seq_length, hidden_dim).\n",
    "        configs (dict): A dictionary containing configuration settings. Must include the key \"cls_token_index\"\n",
    "                        which specifies the index of the CLS token in the sequence dimension.\n",
    "\n",
    "    Returns:\n",
    "        torch.Tensor: A tensor containing the CLS token for each example in the batch,\n",
    "                      of shape (batch_size, hidden_dim).\n",
    "    \"\"\"\n",
    "    clsId = configs[\"cls_token_index\"]\n",
    "    return tensor[:, clsId, :]\n",
    "\n",
    "def flattenMiddle(tensor):\n",
    "    \"\"\"\n",
    "    Flattens the middle dimension (sequence length) of the input tensor, removing it.\n",
    "\n",
    "    Parameters:\n",
    "        tensor (torch.Tensor): The input tensor of shape (batch_size, seq_length, hidden_dim).\n",
    "\n",
    "    Returns:\n",
    "        torch.Tensor: A tensor of shape (batch_size, hidden_dim) with the middle dimension flattened out.\n",
    "    \"\"\"\n",
    "    return tensor.view(tensor.size(0), -1)\n",
    "\n",
    "def freezeModel(model):\n",
    "    \"\"\"\n",
    "    Freeze all parameters of a given model.\n",
    "    Parameters:\n",
    "        model (torch.nn.Module): The PyTorch model whose parameters are to be frozen.\n",
    "    \"\"\"\n",
    "    for param in model.parameters():\n",
    "        param.requires_grad = False\n",
    "    return model"
   ]
  },
  {
   "cell_type": "code",
   "execution_count": 7,
   "id": "2489bf4f",
   "metadata": {
    "execution": {
     "iopub.execute_input": "2025-01-20T16:27:00.686925Z",
     "iopub.status.busy": "2025-01-20T16:27:00.686701Z",
     "iopub.status.idle": "2025-01-20T16:27:00.701070Z",
     "shell.execute_reply": "2025-01-20T16:27:00.700336Z",
     "shell.execute_reply.started": "2025-01-20T16:27:00.686896Z"
    },
    "id": "2489bf4f",
    "papermill": {
     "duration": 0.026945,
     "end_time": "2024-12-18T17:14:15.822548",
     "exception": false,
     "start_time": "2024-12-18T17:14:15.795603",
     "status": "completed"
    },
    "tags": [],
    "trusted": true
   },
   "outputs": [],
   "source": [
    "def plotMetric(metricData, metricName):\n",
    "    if metricName == None or metricName not in metricData:\n",
    "        raise ValueError(\"No such metric\")\n",
    "    metricData[metricName].plot()\n",
    "    plt.xlabel('Epochs')\n",
    "    plt.ylabel(metricName)\n",
    "    plt.title(f'Plot of {metricName}')\n",
    "    plt.show()\n",
    "\n",
    "threshold=1\n",
    "def calcPrcentileTokens(dataset, tokenizer, field, percentile=configs[\"tok_percentile\"], thershold=1):\n",
    "    \"\"\"\n",
    "    Calculate the token length at a specific percentile for a dataset field.\n",
    "\n",
    "    This function tokenizes the data in the specified field of the dataset and calculates\n",
    "    the token length at the given percentile. An optional threshold can be added to the result.\n",
    "\n",
    "    Parameters:\n",
    "        dataset (dict or Dataset): The dataset containing the data to be tokenized.\n",
    "        tokenizer (callable): A tokenizer function or object with a callable interface\n",
    "                              (e.g., HuggingFace tokenizer).\n",
    "        field (str): The field in the dataset whose token lengths are to be calculated.\n",
    "        percentile (float, optional): The percentile to compute (default is the value in\n",
    "                                       `configs[\"tok_percentile\"]`).\n",
    "        thershold (int, optional): A value to add to the calculated percentile token length\n",
    "                                    (default is 1).\n",
    "\n",
    "    Returns:\n",
    "        int: The token length at the specified percentile plus the threshold.\n",
    "\n",
    "    Raises:\n",
    "        KeyError: If the specified field does not exist in the dataset.\n",
    "        TypeError: If `tokenized` is not in the expected format.\n",
    "\n",
    "    Example:\n",
    "        dataset = {\"text\": [\"This is a sentence.\", \"Another example sentence.\"]}\n",
    "        tokenizer = lambda x: {\"input_ids\": [[1, 2, 3, 4], [5, 6, 7, 8, 9]]}\n",
    "        field = \"text\"\n",
    "        calcPrcentileTokens(dataset, tokenizer, field, percentile=95, thershold=2)\n",
    "\n",
    "    Notes:\n",
    "        - If the tokenized output is a dictionary (e.g., HuggingFace tokenizers), it assumes\n",
    "          that `input_ids` contains the token sequences.\n",
    "        - If the tokenized output is a tensor, nonzero token counts are used to determine lengths.\n",
    "    \"\"\"\n",
    "    tokenized = tokenizer(dataset[field])\n",
    "    if not isinstance(tokenized, torch.Tensor):\n",
    "        tokenLengths = list(map(lambda sen: len(sen), tokenized['input_ids']))\n",
    "    else:\n",
    "        tokenLengths = [tensor.nonzero().size(0) for tensor in tokenized]\n",
    "    percentileLength = np.percentile(tokenLengths, percentile)\n",
    "    return int(percentileLength) + 1\n",
    "\n",
    "# Dont Touch This\n",
    "def TextEncoder(configs):\n",
    "    newModel = TE.TextTransformer(context_length=configs['reference_context_length'],\n",
    "                                 vocab_size=configs[\"reference_vocab_size\"],\n",
    "                                 width=configs[\"reference_width\"],\n",
    "                                 layers=configs[\"reference_layers\"],\n",
    "                                 heads=configs[\"reference_heads\"],\n",
    "                                 output_dim=configs[\"reference_embedding\"])\n",
    "    return newModel\n"
   ]
  },
  {
   "cell_type": "markdown",
   "id": "ee90637f",
   "metadata": {
    "id": "ee90637f",
    "papermill": {
     "duration": 0.016248,
     "end_time": "2024-12-18T17:14:15.854449",
     "exception": false,
     "start_time": "2024-12-18T17:14:15.838201",
     "status": "completed"
    },
    "tags": []
   },
   "source": [
    "## Models"
   ]
  },
  {
   "cell_type": "markdown",
   "id": "7f75d675",
   "metadata": {
    "id": "7f75d675",
    "papermill": {
     "duration": 0.016386,
     "end_time": "2024-12-18T17:14:15.886639",
     "exception": false,
     "start_time": "2024-12-18T17:14:15.870253",
     "status": "completed"
    },
    "tags": []
   },
   "source": [
    "### TODO: Compelete the Swish and LinearProjection functions based on the pydoc provided (15pts)"
   ]
  },
  {
   "cell_type": "code",
   "execution_count": 8,
   "id": "83acbdd5",
   "metadata": {
    "execution": {
     "iopub.execute_input": "2025-01-20T16:27:00.702216Z",
     "iopub.status.busy": "2025-01-20T16:27:00.701953Z",
     "iopub.status.idle": "2025-01-20T16:27:00.717394Z",
     "shell.execute_reply": "2025-01-20T16:27:00.716773Z",
     "shell.execute_reply.started": "2025-01-20T16:27:00.702189Z"
    },
    "id": "83acbdd5",
    "papermill": {
     "duration": 0.02619,
     "end_time": "2024-12-18T17:14:15.929057",
     "exception": false,
     "start_time": "2024-12-18T17:14:15.902867",
     "status": "completed"
    },
    "tags": [],
    "trusted": true
   },
   "outputs": [],
   "source": [
    "class Swish(nn.Module):\n",
    "    \"\"\"\n",
    "    Implements the Swish activation function.\n",
    "    Parameters:\n",
    "        beta (float, optional): The scaling parameter for the input x in the sigmoid\n",
    "                                function. Default is 1.0.\n",
    "    \"\"\"\n",
    "    def __init__(self, beta=1.0):\n",
    "        super().__init__()\n",
    "        self.beta = beta\n",
    "\n",
    "    def forward(self, x):\n",
    "        return x * torch.sigmoid(self.beta * x)\n",
    "\n",
    "class LinearProjection(nn.Module):\n",
    "    \"\"\"\n",
    "    A projection layer with Swish activation, batch normalization, dropout, and residual connections.\n",
    "\n",
    "    This module takes an input tensor, applies a series of transformations, and produces an\n",
    "    output tensor of the same shape, making use of residual connections and layer normalization.\n",
    "\n",
    "    Parameters:\n",
    "        embedding_dim (int): The dimensionality of the input embeddings.\n",
    "        projection_dim (int, optional): The dimensionality of the projection. Default is\n",
    "                                        `configs['project_to']`.\n",
    "        dropout (float, optional): The dropout rate. Default is `configs['dropout']`.\n",
    "\n",
    "    Layers:\n",
    "        - projection: Linear layer that projects the input to the specified `projection_dim`.\n",
    "        - swish: Swish activation function with a fixed beta of 1.0.\n",
    "        - batch_norm: Batch normalization applied after projection.\n",
    "        - fc: Fully connected layer for further transformations.\n",
    "        - dropout: Dropout applied to the output of the fully connected layer.\n",
    "        - layer_norm: Layer normalization applied after residual connection.\n",
    "\n",
    "    Methods:\n",
    "        forward(x):\n",
    "            Applies the projection, activation, normalization, dropout, residual connection,\n",
    "            and layer normalization to the input tensor.\n",
    "\n",
    "    Example:\n",
    "        model = LinearProjection(embedding_dim=128, projection_dim=64, dropout=0.1)\n",
    "        output = model(input_tensor)\n",
    "    \"\"\"\n",
    "    def __init__(self, embedding_dim, projection_dim=None, dropout=configs['dropout']):\n",
    "        super(LinearProjection, self).__init__()\n",
    "        # Use projection_dim only if different from embedding_dim\n",
    "        projection_dim = projection_dim or embedding_dim\n",
    "\n",
    "        self.projection = nn.Linear(embedding_dim, projection_dim)\n",
    "        self.swish = Swish(beta=1.0)\n",
    "        self.batch_norm = nn.BatchNorm1d(projection_dim)\n",
    "        self.fc = nn.Linear(projection_dim, projection_dim)\n",
    "        self.dropout = nn.Dropout(dropout)\n",
    "        self.layer_norm = nn.LayerNorm(projection_dim)\n",
    "\n",
    "        # Add residual projection if dimensions change\n",
    "        self.res_proj = nn.Linear(embedding_dim, projection_dim) if embedding_dim != projection_dim else nn.Identity()\n",
    "\n",
    "    def forward(self, x):\n",
    "        residual = self.res_proj(x)  # Project residual if needed\n",
    "        x = self.projection(x)\n",
    "        x = self.swish(x)\n",
    "        x = self.batch_norm(x)\n",
    "        x = self.fc(x)\n",
    "        x = self.dropout(x)\n",
    "        x = x + residual\n",
    "        x = self.layer_norm(x)\n",
    "        return x"
   ]
  },
  {
   "cell_type": "code",
   "execution_count": 9,
   "id": "ece3abb5",
   "metadata": {
    "execution": {
     "iopub.execute_input": "2025-01-20T16:27:00.718516Z",
     "iopub.status.busy": "2025-01-20T16:27:00.718240Z",
     "iopub.status.idle": "2025-01-20T16:27:00.731140Z",
     "shell.execute_reply": "2025-01-20T16:27:00.730318Z",
     "shell.execute_reply.started": "2025-01-20T16:27:00.718486Z"
    },
    "id": "ece3abb5",
    "papermill": {
     "duration": 0.024135,
     "end_time": "2024-12-18T17:14:15.969481",
     "exception": false,
     "start_time": "2024-12-18T17:14:15.945346",
     "status": "completed"
    },
    "tags": [],
    "trusted": true
   },
   "outputs": [],
   "source": [
    "class CandidateModel(nn.Module):\n",
    "    def __init__(self, model_name, unfreezeLayers, trainable=True):\n",
    "        super().__init__()\n",
    "        self.configs = AutoConfig.from_pretrained(model_name)\n",
    "        self.candidate_embedding = self.configs.hidden_size  # Should be 768 for smaller-LaBSE\n",
    "\n",
    "        self.batchNorm = nn.BatchNorm1d(self.candidate_embedding)  # num_features=768\n",
    "\n",
    "        self.candidateProjection = LinearProjection(\n",
    "            embedding_dim=self.candidate_embedding,\n",
    "            projection_dim=configs['project_to']  # 1024 from config\n",
    "        )\n",
    "        self.tokenizer = AutoTokenizer.from_pretrained(model_name)\n",
    "        self.model = AutoModel.from_pretrained(model_name)\n",
    "        self.targetTokenIdx = configs[\"cls_token_index\"]\n",
    "\n",
    "    def forward(self, input_ids, attention_mask):\n",
    "        output = self.model(input_ids=input_ids, attention_mask=attention_mask)\n",
    "        clsEmbed = getClsToken(output.last_hidden_state)\n",
    "\n",
    "        # Flatten before batch norm\n",
    "        clsEmbed = flattenMiddle(clsEmbed)  # Shape: (batch_size, 768)\n",
    "\n",
    "        clsEmbed = self.batchNorm(clsEmbed)\n",
    "        clsEmbed = self.candidateProjection(clsEmbed)\n",
    "        return clsEmbed"
   ]
  },
  {
   "cell_type": "markdown",
   "id": "4e0dd33e",
   "metadata": {
    "id": "4e0dd33e",
    "papermill": {
     "duration": 0.015974,
     "end_time": "2024-12-18T17:14:16.001750",
     "exception": false,
     "start_time": "2024-12-18T17:14:15.985776",
     "status": "completed"
    },
    "tags": []
   },
   "source": [
    "## Training"
   ]
  },
  {
   "cell_type": "markdown",
   "id": "92d73eeb",
   "metadata": {
    "id": "92d73eeb",
    "papermill": {
     "duration": 0.015543,
     "end_time": "2024-12-18T17:14:16.033408",
     "exception": false,
     "start_time": "2024-12-18T17:14:16.017865",
     "status": "completed"
    },
    "tags": []
   },
   "source": [
    "### TODO: Compelete the calcLoss functions based on the pydoc provided (20pts)"
   ]
  },
  {
   "cell_type": "code",
   "execution_count": 10,
   "id": "c8e57071",
   "metadata": {
    "execution": {
     "iopub.execute_input": "2025-01-20T16:27:00.732414Z",
     "iopub.status.busy": "2025-01-20T16:27:00.732123Z",
     "iopub.status.idle": "2025-01-20T16:27:00.746530Z",
     "shell.execute_reply": "2025-01-20T16:27:00.745820Z",
     "shell.execute_reply.started": "2025-01-20T16:27:00.732385Z"
    },
    "id": "c8e57071",
    "papermill": {
     "duration": 0.024464,
     "end_time": "2024-12-18T17:14:16.074093",
     "exception": false,
     "start_time": "2024-12-18T17:14:16.049629",
     "status": "completed"
    },
    "tags": [],
    "trusted": true
   },
   "outputs": [],
   "source": [
    "def calcLoss(batch, referenceModel, candidateModel, temperature):\n",
    "    \"\"\"\n",
    "    Compute the loss and the number of correct predictions for a contrastive learning task.\n",
    "\n",
    "    This function calculates a symmetric cross-entropy loss between the embeddings\n",
    "    generated by a reference model and a candidate model. It also computes the\n",
    "    number of correct predictions based on the alignment of the embeddings.\n",
    "\n",
    "    Args:\n",
    "        batch (dict): A batch of data containing:\n",
    "            - \"candidate\" (torch.Tensor): Tokenized input for the candidate model.\n",
    "            - \"reference\" (torch.Tensor): Tokenized input for the reference model.\n",
    "        referenceModel (nn.Module): The model generating embeddings for the reference input.\n",
    "        candidateModel (nn.Module): The model generating embeddings for the candidate input.\n",
    "        temperature (float): A scaling factor to control the logits' sharpness during similarity calculation.\n",
    "\n",
    "    Returns:\n",
    "        tuple:\n",
    "            - loss (torch.Tensor): The computed symmetric cross-entropy loss.\n",
    "            - corrects (int): The number of correctly predicted alignments.\n",
    "\n",
    "    Notes:\n",
    "        - The embeddings are normalized to ensure their magnitudes do not impact similarity.\n",
    "        - Logits represent scaled cosine similarity between reference and candidate embeddings.\n",
    "        - The targets are identity matrices, assuming perfect alignment between reference and candidate inputs.\n",
    "\n",
    "    Example Usage:\n",
    "        batch = {\n",
    "            \"candidate\": tokenized_candidate,\n",
    "            \"reference\": tokenized_reference\n",
    "        }\n",
    "        loss, corrects = calcLoss(batch, reference_model, candidate_model, temperature=0.1)\n",
    "    \"\"\"\n",
    "    # Move tokenized inputs to the specified device\n",
    "    candidateTokenized = batch[\"candidate\"].to(configs[\"device\"])\n",
    "    referenceTokenized = batch[\"reference\"].to(configs[\"device\"])\n",
    "\n",
    "    # Generate embeddings from reference and candidate models\n",
    "    referenceEmbeds = referenceModel(referenceTokenized)\n",
    "    candidateEmbeds = candidateModel(\n",
    "        input_ids=candidateTokenized[\"input_ids\"],\n",
    "        attention_mask=candidateTokenized[\"attention_mask\"]\n",
    "    )\n",
    "\n",
    "    # Normalize embeddings to have unit length\n",
    "    referenceEmbeds = F.normalize(referenceEmbeds, p=2, dim=-1)\n",
    "    candidateEmbeds = F.normalize(candidateEmbeds, p=2, dim=-1)\n",
    "\n",
    "    # Compute cosine similarity logits\n",
    "    logits_per_reference = referenceEmbeds @ candidateEmbeds.T / temperature\n",
    "    logits_per_candidate = candidateEmbeds @ referenceEmbeds.T / temperature\n",
    "\n",
    "    # Create target labels\n",
    "    targets = torch.arange(referenceEmbeds.size(0)).to(configs[\"device\"])\n",
    "\n",
    "    # Compute cross-entropy loss\n",
    "    loss_reference = F.cross_entropy(logits_per_reference, targets)\n",
    "    loss_candidate = F.cross_entropy(logits_per_candidate, targets)\n",
    "    loss = (loss_reference + loss_candidate) / 2\n",
    "\n",
    "    # Compute the number of correct predictions\n",
    "    corrects_reference = (logits_per_reference.argmax(dim=-1) == targets).sum().item()\n",
    "    corrects_candidate = (logits_per_candidate.argmax(dim=-1) == targets).sum().item()\n",
    "    corrects = (corrects_reference + corrects_candidate) / 2\n",
    "\n",
    "    return loss, corrects"
   ]
  },
  {
   "cell_type": "markdown",
   "id": "5f1b4edc",
   "metadata": {
    "id": "5f1b4edc",
    "papermill": {
     "duration": 0.015457,
     "end_time": "2024-12-18T17:14:16.105022",
     "exception": false,
     "start_time": "2024-12-18T17:14:16.089565",
     "status": "completed"
    },
    "tags": []
   },
   "source": [
    "### TODO: Fill the trainLoop and valLoop (5pts)"
   ]
  },
  {
   "cell_type": "code",
   "execution_count": 11,
   "id": "05f0bf97",
   "metadata": {
    "execution": {
     "iopub.execute_input": "2025-01-20T16:27:00.747633Z",
     "iopub.status.busy": "2025-01-20T16:27:00.747347Z",
     "iopub.status.idle": "2025-01-20T16:27:00.763871Z",
     "shell.execute_reply": "2025-01-20T16:27:00.763069Z",
     "shell.execute_reply.started": "2025-01-20T16:27:00.747602Z"
    },
    "id": "05f0bf97",
    "papermill": {
     "duration": 0.027335,
     "end_time": "2024-12-18T17:14:16.147775",
     "exception": false,
     "start_time": "2024-12-18T17:14:16.120440",
     "status": "completed"
    },
    "tags": [],
    "trusted": true
   },
   "outputs": [],
   "source": [
    "def trainLoop(dataloader, models, referenceTokenizer, candidateTokenizer, optimizer, temperature):\n",
    "    models['candidateModel'].train()\n",
    "\n",
    "    totalLoss = 0.0\n",
    "    totalCorrects = 0\n",
    "\n",
    "    print(\"Training Starts!\")\n",
    "    for (index, pairs) in tqdm(enumerate(dataloader), total=len(dataloader)):\n",
    "\n",
    "        candidteTokenized = candidateTokenizer(getPersianDs(pairs), padding='max_length', truncation=True, return_tensors=\"pt\", max_length=configs[\"tok_percentile\"])\n",
    "        referenceTextTokenized = referenceTokenizer(getEnglishDs(pairs))\n",
    "\n",
    "        batch = {\n",
    "            \"candidate\" : candidteTokenized,\n",
    "            \"reference\" : referenceTextTokenized\n",
    "        }\n",
    "\n",
    "        loss, corrects = calcLoss(batch, models['referenceModel'], models['candidateModel'], temperature)\n",
    "        totalCorrects += corrects\n",
    "        totalLoss += loss.item()\n",
    "\n",
    "        optimizer.zero_grad()\n",
    "        loss.backward()\n",
    "        optimizer.step()\n",
    "\n",
    "    avgLoss = totalLoss / len(dataloader)\n",
    "    avgAccuracy = totalCorrects / len(dataloader.dataset)\n",
    "\n",
    "    print(\"train loss\", avgLoss)\n",
    "    print(\"train accuracy\", avgAccuracy)\n",
    "\n",
    "    return avgLoss, avgAccuracy\n",
    "\n",
    "def valLoop(dataloader, models, referenceTokenizer, candidateTokenizer, temperature):\n",
    "    models['candidateModel'].eval()\n",
    "\n",
    "    print(\"Testing Starts!\")\n",
    "    totalLoss = 0.0\n",
    "    totalCorrects = 0\n",
    "\n",
    "    with torch.no_grad():\n",
    "        for (index, pairs) in tqdm(enumerate(dataloader), total=len(dataloader)):\n",
    "            candidteTokenized = candidateTokenizer(getPersianDs(pairs), padding='max_length', truncation=True, return_tensors=\"pt\", max_length=configs[\"tok_percentile\"])\n",
    "            referenceTextTokenized = referenceTokenizer(getEnglishDs(pairs))\n",
    "\n",
    "            batch = {\n",
    "                \"candidate\" : candidteTokenized,\n",
    "                \"reference\" : referenceTextTokenized\n",
    "            }\n",
    "\n",
    "            loss, corrects = calcLoss(batch, models['referenceModel'], models['candidateModel'], temperature)\n",
    "\n",
    "            totalCorrects += corrects\n",
    "            totalLoss += loss.item()\n",
    "\n",
    "    avgLoss = totalLoss / len(dataloader)\n",
    "    avgAccuracy = totalCorrects / len(dataloader.dataset)\n",
    "\n",
    "    print(\"test loss\", avgLoss)\n",
    "    print(\"test accuracy\", avgAccuracy)\n",
    "\n",
    "    return avgLoss, avgAccuracy"
   ]
  },
  {
   "cell_type": "code",
   "execution_count": 12,
   "id": "f015a11f",
   "metadata": {
    "colab": {
     "base_uri": "https://localhost:8080/",
     "height": 136,
     "referenced_widgets": [
      "0ef845fd19bf4a55b929cb436298f4e0",
      "248900b03fe842608168d1cec4a2165c",
      "22a0dd448ab54d7fa86e64235b7b9e53",
      "ad9d79215e8e45bcb978bb77e7770e2b",
      "78b7f3a5f2bd47d5be297eff78bf3879",
      "169ccb7c800749b981a17d476e81530d",
      "e7e2e586990a4ac3ab13ec3081a5941c",
      "d6aa7f75706f4554920dee5e30d59577",
      "18d0d68d33b04d8caab6ce39e93840e9",
      "29e4b3f37e6d423eb538f63e952a17ed",
      "adef131d1c204773937e74d45cb7326c",
      "db9998381d364b638846db9e5a858b1e",
      "e62171e555044b8aafa218f1b837dfe1",
      "5468b976c0d645269d20b54e6dfecea6",
      "7fbb6bb429cd4965abb887a793622989",
      "9d5ca1cc8d3d483cb740cbf50108aa63",
      "c5493f270ac34e7f91bd41a3b8818e70",
      "e6ea6d877ce640d5a7abb5a5c0bc5187",
      "135d88c3593b4dc3843463d58565ecfa",
      "ae430255b3b946d2ad97f95ce22f76f0",
      "349283cc379a4b3c9d8a3fd3cc25ce75",
      "8f10ccfb769648c3b2649875821bcf4c"
     ]
    },
    "execution": {
     "iopub.execute_input": "2025-01-20T16:27:00.765162Z",
     "iopub.status.busy": "2025-01-20T16:27:00.764858Z",
     "iopub.status.idle": "2025-01-20T16:27:05.333501Z",
     "shell.execute_reply": "2025-01-20T16:27:05.332546Z",
     "shell.execute_reply.started": "2025-01-20T16:27:00.765134Z"
    },
    "id": "f015a11f",
    "outputId": "98a3e923-4313-49ff-f97d-9e81fbca5604",
    "papermill": {
     "duration": 5.07707,
     "end_time": "2024-12-18T17:14:21.240389",
     "exception": false,
     "start_time": "2024-12-18T17:14:16.163319",
     "status": "completed"
    },
    "tags": [],
    "trusted": true
   },
   "outputs": [
    {
     "name": "stdout",
     "output_type": "stream",
     "text": [
      "Before Preproccess:  {'en': 'A chalkboard with the numbers and symbols for a menu.', 'fa': 'یک تخته سیاه با اعداد و نمادهای یک منو.'}\n"
     ]
    },
    {
     "data": {
      "application/vnd.jupyter.widget-view+json": {
       "model_id": "f60fc7c5929c4425a020e9df2d21979c",
       "version_major": 2,
       "version_minor": 0
      },
      "text/plain": [
       "Map:   0%|          | 0/29999 [00:00<?, ? examples/s]"
      ]
     },
     "metadata": {},
     "output_type": "display_data"
    },
    {
     "data": {
      "application/vnd.jupyter.widget-view+json": {
       "model_id": "2265cfe922d245bda2576a0f650f682e",
       "version_major": 2,
       "version_minor": 0
      },
      "text/plain": [
       "Map:   0%|          | 0/10000 [00:00<?, ? examples/s]"
      ]
     },
     "metadata": {},
     "output_type": "display_data"
    },
    {
     "name": "stdout",
     "output_type": "stream",
     "text": [
      "After Preproccess:  {'en': 'a chalkboard with the numbers and symbols for a menu', 'fa': 'یک تخته سیاه با اعداد و نمادهای یک منو'}\n"
     ]
    }
   ],
   "source": [
    "oldCols = [\"en\", \"fa\"]\n",
    "datasetTrain, datasetVal = getDatasetsCSV(oldCols[0], oldCols[1], configs[\"english\"], configs[\"persian\"], configs[\"train_path\"], configs[\"val_path\"])\n",
    "\n",
    "# take 50% of the dataset randomly\n",
    "datasetTrain = datasetTrain.shuffle(seed=42).select(range(int(len(datasetTrain) * 0.5)))\n",
    "datasetVal = datasetVal.shuffle(seed=42).select(range(int(len(datasetVal) * 0.5)))\n",
    "\n",
    "getPersianDs, getEnglishDs = getDsByLang(configs[\"persian\"], configs[\"english\"])\n",
    "print(\"Before Preproccess: \", datasetTrain[0])\n",
    "datasetTrain, datasetVal = applyPreprocess([datasetTrain, datasetVal], configs)\n",
    "print(\"After Preproccess: \", datasetTrain[0])\n",
    "trainDataloader = DataLoader(datasetTrain, batch_size=configs['batch_size'], shuffle=True)\n",
    "valDataloader = DataLoader(datasetVal, batch_size=configs['batch_size'], shuffle=False)"
   ]
  },
  {
   "cell_type": "markdown",
   "id": "aea3bc61",
   "metadata": {
    "id": "aea3bc61",
    "papermill": {
     "duration": 0.015811,
     "end_time": "2024-12-18T17:14:21.272664",
     "exception": false,
     "start_time": "2024-12-18T17:14:21.256853",
     "status": "completed"
    },
    "tags": []
   },
   "source": [
    "#### Tokenizers"
   ]
  },
  {
   "cell_type": "code",
   "execution_count": 13,
   "id": "506ef8ec",
   "metadata": {
    "colab": {
     "base_uri": "https://localhost:8080/"
    },
    "execution": {
     "iopub.execute_input": "2025-01-20T16:27:05.335839Z",
     "iopub.status.busy": "2025-01-20T16:27:05.335620Z",
     "iopub.status.idle": "2025-01-20T16:27:15.158698Z",
     "shell.execute_reply": "2025-01-20T16:27:15.157935Z",
     "shell.execute_reply.started": "2025-01-20T16:27:05.335819Z"
    },
    "id": "506ef8ec",
    "outputId": "dfc82bbf-ee2a-4284-cb71-383d56cf3ba2",
    "papermill": {
     "duration": 10.512708,
     "end_time": "2024-12-18T17:14:31.801887",
     "exception": false,
     "start_time": "2024-12-18T17:14:21.289179",
     "status": "completed"
    },
    "tags": [],
    "trusted": true
   },
   "outputs": [
    {
     "data": {
      "application/vnd.jupyter.widget-view+json": {
       "model_id": "4ecf6c959179499b878e3373e4910617",
       "version_major": 2,
       "version_minor": 0
      },
      "text/plain": [
       "config.json:   0%|          | 0.00/611 [00:00<?, ?B/s]"
      ]
     },
     "metadata": {},
     "output_type": "display_data"
    },
    {
     "data": {
      "application/vnd.jupyter.widget-view+json": {
       "model_id": "ace016297655416f9ea8b6a9a31ad068",
       "version_major": 2,
       "version_minor": 0
      },
      "text/plain": [
       "tokenizer_config.json:   0%|          | 0.00/367 [00:00<?, ?B/s]"
      ]
     },
     "metadata": {},
     "output_type": "display_data"
    },
    {
     "data": {
      "application/vnd.jupyter.widget-view+json": {
       "model_id": "2d3f63e300e94b3eb0dabb931e73731d",
       "version_major": 2,
       "version_minor": 0
      },
      "text/plain": [
       "vocab.txt:   0%|          | 0.00/1.47M [00:00<?, ?B/s]"
      ]
     },
     "metadata": {},
     "output_type": "display_data"
    },
    {
     "data": {
      "application/vnd.jupyter.widget-view+json": {
       "model_id": "16954ea6d79c4316b7411b42c716e0bc",
       "version_major": 2,
       "version_minor": 0
      },
      "text/plain": [
       "tokenizer.json:   0%|          | 0.00/4.31M [00:00<?, ?B/s]"
      ]
     },
     "metadata": {},
     "output_type": "display_data"
    },
    {
     "data": {
      "application/vnd.jupyter.widget-view+json": {
       "model_id": "acae925a8ab74b6c953fc41950033602",
       "version_major": 2,
       "version_minor": 0
      },
      "text/plain": [
       "special_tokens_map.json:   0%|          | 0.00/125 [00:00<?, ?B/s]"
      ]
     },
     "metadata": {},
     "output_type": "display_data"
    }
   ],
   "source": [
    "referenceTokenizer = open_clip.get_tokenizer(configs[\"reference_checkPoint\"])\n",
    "\n",
    "candidateConfig = AutoConfig.from_pretrained(configs[\"candidate_checkpoint\"])\n",
    "candidateTokenizer = AutoTokenizer.from_pretrained(configs[\"candidate_checkpoint\"])\n",
    "\n",
    "configs = configs | {\"candidate_embedding\" : candidateConfig.hidden_size}\n",
    "\n",
    "faTokenPercentile = calcPrcentileTokens(datasetTrain, candidateTokenizer, configs[\"persian\"])\n",
    "faTokenPercentile\n",
    "\n",
    "enTokenPercentile = calcPrcentileTokens(datasetTrain, referenceTokenizer, configs[\"english\"])\n",
    "enTokenPercentile\n",
    "\n",
    "configs = configs | {\"en_tok_percentile\" : enTokenPercentile}\n",
    "configs = configs | {\"fa_tok_percentile\" : faTokenPercentile}"
   ]
  },
  {
   "cell_type": "markdown",
   "id": "d92d790a",
   "metadata": {
    "id": "d92d790a",
    "papermill": {
     "duration": 0.016378,
     "end_time": "2024-12-18T17:14:31.835725",
     "exception": false,
     "start_time": "2024-12-18T17:14:31.819347",
     "status": "completed"
    },
    "tags": []
   },
   "source": [
    "#### Models"
   ]
  },
  {
   "cell_type": "code",
   "execution_count": 14,
   "id": "0cfbc447",
   "metadata": {
    "execution": {
     "iopub.execute_input": "2025-01-20T16:27:15.160370Z",
     "iopub.status.busy": "2025-01-20T16:27:15.160057Z",
     "iopub.status.idle": "2025-01-20T16:27:43.572359Z",
     "shell.execute_reply": "2025-01-20T16:27:43.571635Z",
     "shell.execute_reply.started": "2025-01-20T16:27:15.160337Z"
    },
    "id": "0cfbc447",
    "papermill": {
     "duration": 28.039003,
     "end_time": "2024-12-18T17:14:59.891005",
     "exception": false,
     "start_time": "2024-12-18T17:14:31.852002",
     "status": "completed"
    },
    "tags": [],
    "trusted": true
   },
   "outputs": [
    {
     "data": {
      "application/vnd.jupyter.widget-view+json": {
       "model_id": "9a3d40f05cdc482593ef70a57f5ccd87",
       "version_major": 2,
       "version_minor": 0
      },
      "text/plain": [
       "model.safetensors:   0%|          | 0.00/877M [00:00<?, ?B/s]"
      ]
     },
     "metadata": {},
     "output_type": "display_data"
    }
   ],
   "source": [
    "referenceModel = TextEncoder(configs).to(configs[\"device\"])\n",
    "candidateModel = CandidateModel(model_name=configs[\"candidate_checkpoint\"], unfreezeLayers=configs[\"unfreezed_layers\"]).to(configs[\"device\"])\n",
    "referenceModel = freezeModel(referenceModel)\n",
    "\n",
    "candidateModel.to(configs['device'])\n",
    "referenceModel.to(configs['device'])\n",
    "\n",
    "models = {\n",
    "    \"referenceModel\" : referenceModel,\n",
    "    \"candidateModel\" : candidateModel\n",
    "}"
   ]
  },
  {
   "cell_type": "markdown",
   "id": "59bc9d96",
   "metadata": {
    "id": "59bc9d96",
    "papermill": {
     "duration": 0.0162,
     "end_time": "2024-12-18T17:14:59.924176",
     "exception": false,
     "start_time": "2024-12-18T17:14:59.907976",
     "status": "completed"
    },
    "tags": []
   },
   "source": [
    "## Training\n",
    "### TODO (10pts) for running the code and (20pts) for achieving above 70 percent test accuracy\n",
    "\n",
    "## I used 50% of the data because of colab GPU time limit"
   ]
  },
  {
   "cell_type": "code",
   "execution_count": 15,
   "id": "03a0e5e7",
   "metadata": {
    "execution": {
     "iopub.execute_input": "2025-01-20T16:27:43.573831Z",
     "iopub.status.busy": "2025-01-20T16:27:43.573232Z",
     "iopub.status.idle": "2025-01-20T16:27:43.580275Z",
     "shell.execute_reply": "2025-01-20T16:27:43.579359Z",
     "shell.execute_reply.started": "2025-01-20T16:27:43.573793Z"
    },
    "id": "03a0e5e7",
    "papermill": {
     "duration": 0.025563,
     "end_time": "2024-12-18T17:14:59.966213",
     "exception": false,
     "start_time": "2024-12-18T17:14:59.940650",
     "status": "completed"
    },
    "tags": [],
    "trusted": true
   },
   "outputs": [],
   "source": [
    "temperature = torch.nn.Parameter(torch.tensor(configs['temperature']).float())\n",
    "optimizer = torch.optim.AdamW(list(models['candidateModel'].parameters()) + [temperature], weight_decay=configs[\"weight_decay\"], lr=configs['lr'])\n",
    "lrScheduler = ReduceLROnPlateau(optimizer, 'max', patience=configs['patience'], factor=configs['factor'])\n"
   ]
  },
  {
   "cell_type": "code",
   "execution_count": 16,
   "id": "0a7f783c",
   "metadata": {
    "colab": {
     "base_uri": "https://localhost:8080/"
    },
    "execution": {
     "iopub.execute_input": "2025-01-20T16:27:43.581718Z",
     "iopub.status.busy": "2025-01-20T16:27:43.581396Z",
     "iopub.status.idle": "2025-01-20T17:47:37.872065Z",
     "shell.execute_reply": "2025-01-20T17:47:37.871107Z",
     "shell.execute_reply.started": "2025-01-20T16:27:43.581687Z"
    },
    "id": "0a7f783c",
    "outputId": "05126a02-dd1b-46aa-f413-b405fc2ba4a6",
    "papermill": {
     "duration": 17782.445889,
     "end_time": "2024-12-18T22:11:22.429709",
     "exception": false,
     "start_time": "2024-12-18T17:14:59.983820",
     "status": "completed"
    },
    "tags": [],
    "trusted": true
   },
   "outputs": [
    {
     "name": "stdout",
     "output_type": "stream",
     "text": [
      "Training Starts!\n"
     ]
    },
    {
     "name": "stderr",
     "output_type": "stream",
     "text": [
      "100%|██████████| 235/235 [12:42<00:00,  3.25s/it]\n"
     ]
    },
    {
     "name": "stdout",
     "output_type": "stream",
     "text": [
      "train loss 4.836758792146723\n",
      "train accuracy 0.3005433514450482\n",
      "Testing Starts!\n"
     ]
    },
    {
     "name": "stderr",
     "output_type": "stream",
     "text": [
      "100%|██████████| 79/79 [03:15<00:00,  2.48s/it]\n"
     ]
    },
    {
     "name": "stdout",
     "output_type": "stream",
     "text": [
      "test loss 4.812666005726102\n",
      "test accuracy 0.50075\n",
      "Temperature at this epoch was : 19.973379135131836\n",
      "Training Starts!\n"
     ]
    },
    {
     "name": "stderr",
     "output_type": "stream",
     "text": [
      "100%|██████████| 235/235 [12:43<00:00,  3.25s/it]\n"
     ]
    },
    {
     "name": "stdout",
     "output_type": "stream",
     "text": [
      "train loss 4.834009251695998\n",
      "train accuracy 0.5713190439681323\n",
      "Testing Starts!\n"
     ]
    },
    {
     "name": "stderr",
     "output_type": "stream",
     "text": [
      "100%|██████████| 79/79 [03:15<00:00,  2.48s/it]\n"
     ]
    },
    {
     "name": "stdout",
     "output_type": "stream",
     "text": [
      "test loss 4.811399755598623\n",
      "test accuracy 0.65145\n",
      "Temperature at this epoch was : 19.946849822998047\n",
      "Training Starts!\n"
     ]
    },
    {
     "name": "stderr",
     "output_type": "stream",
     "text": [
      "100%|██████████| 235/235 [12:43<00:00,  3.25s/it]\n"
     ]
    },
    {
     "name": "stdout",
     "output_type": "stream",
     "text": [
      "train loss 4.8329685089435985\n",
      "train accuracy 0.7019400646688223\n",
      "Testing Starts!\n"
     ]
    },
    {
     "name": "stderr",
     "output_type": "stream",
     "text": [
      "100%|██████████| 79/79 [03:15<00:00,  2.48s/it]\n"
     ]
    },
    {
     "name": "stdout",
     "output_type": "stream",
     "text": [
      "test loss 4.810691610167298\n",
      "test accuracy 0.7191\n",
      "Temperature at this epoch was : 19.920639038085938\n",
      "Training Starts!\n"
     ]
    },
    {
     "name": "stderr",
     "output_type": "stream",
     "text": [
      "100%|██████████| 235/235 [12:43<00:00,  3.25s/it]\n"
     ]
    },
    {
     "name": "stdout",
     "output_type": "stream",
     "text": [
      "train loss 4.832266255642505\n",
      "train accuracy 0.7735257841928064\n",
      "Testing Starts!\n"
     ]
    },
    {
     "name": "stderr",
     "output_type": "stream",
     "text": [
      "100%|██████████| 79/79 [03:15<00:00,  2.48s/it]\n"
     ]
    },
    {
     "name": "stdout",
     "output_type": "stream",
     "text": [
      "test loss 4.810307179825215\n",
      "test accuracy 0.76255\n",
      "Temperature at this epoch was : 19.89463996887207\n",
      "Training Starts!\n"
     ]
    },
    {
     "name": "stderr",
     "output_type": "stream",
     "text": [
      "100%|██████████| 235/235 [12:43<00:00,  3.25s/it]\n"
     ]
    },
    {
     "name": "stdout",
     "output_type": "stream",
     "text": [
      "train loss 4.831772451197847\n",
      "train accuracy 0.8183939464648822\n",
      "Testing Starts!\n"
     ]
    },
    {
     "name": "stderr",
     "output_type": "stream",
     "text": [
      "100%|██████████| 79/79 [03:15<00:00,  2.48s/it]"
     ]
    },
    {
     "name": "stdout",
     "output_type": "stream",
     "text": [
      "test loss 4.809964484806303\n",
      "test accuracy 0.79035\n",
      "Temperature at this epoch was : 19.86887550354004\n",
      "Best accuracy of validation gained:  0.79035\n",
      "Done!\n"
     ]
    },
    {
     "name": "stderr",
     "output_type": "stream",
     "text": [
      "\n"
     ]
    }
   ],
   "source": [
    "\n",
    "bestValAcc = float('-inf')\n",
    "\n",
    "metrics = pd.DataFrame(columns=[\"Avg-train-loss\", \"Avg-train-accuracy\",\"Avg-val-loss\", \"Avg-val-accuracy\"])\n",
    "\n",
    "for t in range(configs['epochs']):\n",
    "    trainLoss, trainAcc = trainLoop(trainDataloader, models, referenceTokenizer, candidateTokenizer, optimizer, temperature)\n",
    "    valLoss, valAcc = valLoop(valDataloader, models, referenceTokenizer, candidateTokenizer, temperature)\n",
    "\n",
    "    metrics.loc[t+1] = [trainLoss, trainAcc, valLoss, valAcc]\n",
    "    bestValAcc = max(bestValAcc, valAcc)\n",
    "\n",
    "    lrScheduler.step(valAcc)\n",
    "\n",
    "    print(\"Temperature at this epoch was :\", temperature.item())\n",
    "\n",
    "print(f'Best accuracy of validation gained: ', bestValAcc)\n",
    "print(\"Done!\")"
   ]
  },
  {
   "cell_type": "code",
   "execution_count": 17,
   "id": "884ba162",
   "metadata": {
    "execution": {
     "iopub.execute_input": "2025-01-20T17:47:37.873347Z",
     "iopub.status.busy": "2025-01-20T17:47:37.873097Z",
     "iopub.status.idle": "2025-01-20T17:47:38.172339Z",
     "shell.execute_reply": "2025-01-20T17:47:38.171686Z",
     "shell.execute_reply.started": "2025-01-20T17:47:37.873322Z"
    },
    "id": "884ba162",
    "papermill": {
     "duration": 0.494729,
     "end_time": "2024-12-18T22:11:23.078241",
     "exception": false,
     "start_time": "2024-12-18T22:11:22.583512",
     "status": "completed"
    },
    "tags": [],
    "trusted": true
   },
   "outputs": [
    {
     "data": {
      "image/png": "[encoded data removed]",
      "text/plain": [
       "<Figure size 640x480 with 1 Axes>"
      ]
     },
     "metadata": {},
     "output_type": "display_data"
    },
    {
     "data": {
      "text/html": [
       "<div>\n",
       "<style scoped>\n",
       "    .dataframe tbody tr th:only-of-type {\n",
       "        vertical-align: middle;\n",
       "    }\n",
       "\n",
       "    .dataframe tbody tr th {\n",
       "        vertical-align: top;\n",
       "    }\n",
       "\n",
       "    .dataframe thead th {\n",
       "        text-align: right;\n",
       "    }\n",
       "</style>\n",
       "<table border=\"1\" class=\"dataframe\">\n",
       "  <thead>\n",
       "    <tr style=\"text-align: right;\">\n",
       "      <th></th>\n",
       "      <th>Avg-train-loss</th>\n",
       "      <th>Avg-train-accuracy</th>\n",
       "      <th>Avg-val-loss</th>\n",
       "      <th>Avg-val-accuracy</th>\n",
       "    </tr>\n",
       "  </thead>\n",
       "  <tbody>\n",
       "    <tr>\n",
       "      <th>3</th>\n",
       "      <td>4.832969</td>\n",
       "      <td>0.701940</td>\n",
       "      <td>4.810692</td>\n",
       "      <td>0.71910</td>\n",
       "    </tr>\n",
       "    <tr>\n",
       "      <th>4</th>\n",
       "      <td>4.832266</td>\n",
       "      <td>0.773526</td>\n",
       "      <td>4.810307</td>\n",
       "      <td>0.76255</td>\n",
       "    </tr>\n",
       "    <tr>\n",
       "      <th>5</th>\n",
       "      <td>4.831772</td>\n",
       "      <td>0.818394</td>\n",
       "      <td>4.809964</td>\n",
       "      <td>0.79035</td>\n",
       "    </tr>\n",
       "  </tbody>\n",
       "</table>\n",
       "</div>"
      ],
      "text/plain": [
       "   Avg-train-loss  Avg-train-accuracy  Avg-val-loss  Avg-val-accuracy\n",
       "3        4.832969            0.701940      4.810692           0.71910\n",
       "4        4.832266            0.773526      4.810307           0.76255\n",
       "5        4.831772            0.818394      4.809964           0.79035"
      ]
     },
     "execution_count": 17,
     "metadata": {},
     "output_type": "execute_result"
    }
   ],
   "source": [
    "plotMetric(metrics, \"Avg-val-accuracy\")\n",
    "metrics.tail(3)"
   ]
  },
  {
   "cell_type": "markdown",
   "id": "732adf00",
   "metadata": {
    "id": "732adf00",
    "papermill": {
     "duration": 0.148084,
     "end_time": "2024-12-18T22:11:23.388751",
     "exception": false,
     "start_time": "2024-12-18T22:11:23.240667",
     "status": "completed"
    },
    "tags": []
   },
   "source": [
    "## Question Box (10pts + 5pts bonus)\n",
    "\n",
    "1- Do we even need normalization for tasks like this? will they provide any accuracy gain? write what you think.\n",
    "\n",
    "Yes, normalization is often necessary for tasks like this. It ensures that the embeddings have a consistent scale, which can improve the stability and convergence of the training process. Normalization can lead to better accuracy by preventing any single embedding from dominating the similarity calculations.\n",
    "<br/>\n",
    "2- When training a neural network, what takes the memory? mention at least 4 things.\n",
    "\n",
    "Model Parameters: The weights and biases of the neural network.\n",
    "Activations: The intermediate outputs of each layer during the forward pass.\n",
    "Gradients: The gradients of the loss with respect to each parameter during backpropagation.\n",
    "Optimizer State: Additional variables maintained by the optimizer, such as momentum terms in SGD or running averages in Adam.\n",
    "<br/>\n",
    "3- find out the actual Open Ai's training configuration of Clip model.\n",
    "\n",
    "OpenAI's CLIP training configuration:\n",
    "\n",
    "OpenAI's CLIP model was trained with the following configuration:\n",
    "Dataset: 400 million image-text pairs.\n",
    "Batch Size: 32,768.\n",
    "Optimizer: Adam with decoupled weight decay.\n",
    "Learning Rate: 1e-3 with cosine decay.\n",
    "Training Duration: Several weeks on a cluster of 256 GPUs.\n",
    "Augmentations: Random cropping, resizing, and color jittering.\n",
    "\n",
    "#### Bonus\n",
    "4- We have an alternative clip's loss implementation, write its pseudocode.\n",
    "\n",
    "1. Input: Batch of image embeddings (I) and text embeddings (T), temperature (τ)\n",
    "2. Normalize embeddings I and T to unit length\n",
    "3. Compute similarity matrix S as dot product of I and T transpose, scaled by 1/τ\n",
    "4. Create target labels as identity matrix\n",
    "5. Compute cross-entropy loss for image-to-text and text-to-image directions\n",
    "6. Average the two losses to get the final loss\n",
    "7. Return the final loss and the number of correct predictions"
   ]
  }
 ],
 "metadata": {
  "accelerator": "GPU",
  "colab": {
   "gpuType": "T4",
   "provenance": []
  },
  "kaggle": {
   "accelerator": "gpu",
   "dataSources": [
    {
     "datasetId": 4600270,
     "sourceId": 7845742,
     "sourceType": "datasetVersion"
    },
    {
     "datasetId": 4600399,
     "sourceId": 7845904,
     "sourceType": "datasetVersion"
    }
   ],
   "dockerImageVersionId": 30840,
   "isGpuEnabled": true,
   "isInternetEnabled": true,
   "language": "python",
   "sourceType": "notebook"
  },
  "kernelspec": {
   "display_name": "Python 3",
   "language": "python",
   "name": "python3"
  },
  "language_info": {
   "codemirror_mode": {
    "name": "ipython",
    "version": 3
   },
   "file_extension": ".py",
   "mimetype": "text/x-python",
   "name": "python",
   "nbconvert_exporter": "python",
   "pygments_lexer": "ipython3",
   "version": "3.10.12"
  },
  "papermill": {
   "default_parameters": {},
   "duration": 17879.671693,
   "end_time": "2024-12-18T22:11:27.581599",
   "environment_variables": {},
   "exception": null,
   "input_path": "__notebook__.ipynb",
   "output_path": "__notebook__.ipynb",
   "parameters": {},
   "start_time": "2024-12-18T17:13:27.909906",
   "version": "2.6.0"
  },
  "widgets": {
   "application/vnd.jupyter.widget-state+json": {
    "0ef845fd19bf4a55b929cb436298f4e0": {
     "model_module": "@jupyter-widgets/controls",
     "model_module_version": "1.5.0",
     "model_name": "HBoxModel",
     "state": {
      "_dom_classes": [],
      "_model_module": "@jupyter-widgets/controls",
      "_model_module_version": "1.5.0",
      "_model_name": "HBoxModel",
      "_view_count": null,
      "_view_module": "@jupyter-widgets/controls",
      "_view_module_version": "1.5.0",
      "_view_name": "HBoxView",
      "box_style": "",
      "children": [
       "IPY_MODEL_248900b03fe842608168d1cec4a2165c",
       "IPY_MODEL_22a0dd448ab54d7fa86e64235b7b9e53",
       "IPY_MODEL_ad9d79215e8e45bcb978bb77e7770e2b"
      ],
      "layout": "IPY_MODEL_78b7f3a5f2bd47d5be297eff78bf3879"
     }
    },
    "135d88c3593b4dc3843463d58565ecfa": {
     "model_module": "@jupyter-widgets/base",
     "model_module_version": "1.2.0",
     "model_name": "LayoutModel",
     "state": {
      "_model_module": "@jupyter-widgets/base",
      "_model_module_version": "1.2.0",
      "_model_name": "LayoutModel",
      "_view_count": null,
      "_view_module": "@jupyter-widgets/base",
      "_view_module_version": "1.2.0",
      "_view_name": "LayoutView",
      "align_content": null,
      "align_items": null,
      "align_self": null,
      "border": null,
      "bottom": null,
      "display": null,
      "flex": null,
      "flex_flow": null,
      "grid_area": null,
      "grid_auto_columns": null,
      "grid_auto_flow": null,
      "grid_auto_rows": null,
      "grid_column": null,
      "grid_gap": null,
      "grid_row": null,
      "grid_template_areas": null,
      "grid_template_columns": null,
      "grid_template_rows": null,
      "height": null,
      "justify_content": null,
      "justify_items": null,
      "left": null,
      "margin": null,
      "max_height": null,
      "max_width": null,
      "min_height": null,
      "min_width": null,
      "object_fit": null,
      "object_position": null,
      "order": null,
      "overflow": null,
      "overflow_x": null,
      "overflow_y": null,
      "padding": null,
      "right": null,
      "top": null,
      "visibility": null,
      "width": null
     }
    },
    "169ccb7c800749b981a17d476e81530d": {
     "model_module": "@jupyter-widgets/base",
     "model_module_version": "1.2.0",
     "model_name": "LayoutModel",
     "state": {
      "_model_module": "@jupyter-widgets/base",
      "_model_module_version": "1.2.0",
      "_model_name": "LayoutModel",
      "_view_count": null,
      "_view_module": "@jupyter-widgets/base",
      "_view_module_version": "1.2.0",
      "_view_name": "LayoutView",
      "align_content": null,
      "align_items": null,
      "align_self": null,
      "border": null,
      "bottom": null,
      "display": null,
      "flex": null,
      "flex_flow": null,
      "grid_area": null,
      "grid_auto_columns": null,
      "grid_auto_flow": null,
      "grid_auto_rows": null,
      "grid_column": null,
      "grid_gap": null,
      "grid_row": null,
      "grid_template_areas": null,
      "grid_template_columns": null,
      "grid_template_rows": null,
      "height": null,
      "justify_content": null,
      "justify_items": null,
      "left": null,
      "margin": null,
      "max_height": null,
      "max_width": null,
      "min_height": null,
      "min_width": null,
      "object_fit": null,
      "object_position": null,
      "order": null,
      "overflow": null,
      "overflow_x": null,
      "overflow_y": null,
      "padding": null,
      "right": null,
      "top": null,
      "visibility": null,
      "width": null
     }
    },
    "18d0d68d33b04d8caab6ce39e93840e9": {
     "model_module": "@jupyter-widgets/controls",
     "model_module_version": "1.5.0",
     "model_name": "ProgressStyleModel",
     "state": {
      "_model_module": "@jupyter-widgets/controls",
      "_model_module_version": "1.5.0",
      "_model_name": "ProgressStyleModel",
      "_view_count": null,
      "_view_module": "@jupyter-widgets/base",
      "_view_module_version": "1.2.0",
      "_view_name": "StyleView",
      "bar_color": null,
      "description_width": ""
     }
    },
    "22a0dd448ab54d7fa86e64235b7b9e53": {
     "model_module": "@jupyter-widgets/controls",
     "model_module_version": "1.5.0",
     "model_name": "FloatProgressModel",
     "state": {
      "_dom_classes": [],
      "_model_module": "@jupyter-widgets/controls",
      "_model_module_version": "1.5.0",
      "_model_name": "FloatProgressModel",
      "_view_count": null,
      "_view_module": "@jupyter-widgets/controls",
      "_view_module_version": "1.5.0",
      "_view_name": "ProgressView",
      "bar_style": "success",
      "description": "",
      "description_tooltip": null,
      "layout": "IPY_MODEL_d6aa7f75706f4554920dee5e30d59577",
      "max": 23999,
      "min": 0,
      "orientation": "horizontal",
      "style": "IPY_MODEL_18d0d68d33b04d8caab6ce39e93840e9",
      "value": 23999
     }
    },
    "248900b03fe842608168d1cec4a2165c": {
     "model_module": "@jupyter-widgets/controls",
     "model_module_version": "1.5.0",
     "model_name": "HTMLModel",
     "state": {
      "_dom_classes": [],
      "_model_module": "@jupyter-widgets/controls",
      "_model_module_version": "1.5.0",
      "_model_name": "HTMLModel",
      "_view_count": null,
      "_view_module": "@jupyter-widgets/controls",
      "_view_module_version": "1.5.0",
      "_view_name": "HTMLView",
      "description": "",
      "description_tooltip": null,
      "layout": "IPY_MODEL_169ccb7c800749b981a17d476e81530d",
      "placeholder": "​",
      "style": "IPY_MODEL_e7e2e586990a4ac3ab13ec3081a5941c",
      "value": "Map: 100%"
     }
    },
    "29e4b3f37e6d423eb538f63e952a17ed": {
     "model_module": "@jupyter-widgets/base",
     "model_module_version": "1.2.0",
     "model_name": "LayoutModel",
     "state": {
      "_model_module": "@jupyter-widgets/base",
      "_model_module_version": "1.2.0",
      "_model_name": "LayoutModel",
      "_view_count": null,
      "_view_module": "@jupyter-widgets/base",
      "_view_module_version": "1.2.0",
      "_view_name": "LayoutView",
      "align_content": null,
      "align_items": null,
      "align_self": null,
      "border": null,
      "bottom": null,
      "display": null,
      "flex": null,
      "flex_flow": null,
      "grid_area": null,
      "grid_auto_columns": null,
      "grid_auto_flow": null,
      "grid_auto_rows": null,
      "grid_column": null,
      "grid_gap": null,
      "grid_row": null,
      "grid_template_areas": null,
      "grid_template_columns": null,
      "grid_template_rows": null,
      "height": null,
      "justify_content": null,
      "justify_items": null,
      "left": null,
      "margin": null,
      "max_height": null,
      "max_width": null,
      "min_height": null,
      "min_width": null,
      "object_fit": null,
      "object_position": null,
      "order": null,
      "overflow": null,
      "overflow_x": null,
      "overflow_y": null,
      "padding": null,
      "right": null,
      "top": null,
      "visibility": null,
      "width": null
     }
    },
    "349283cc379a4b3c9d8a3fd3cc25ce75": {
     "model_module": "@jupyter-widgets/base",
     "model_module_version": "1.2.0",
     "model_name": "LayoutModel",
     "state": {
      "_model_module": "@jupyter-widgets/base",
      "_model_module_version": "1.2.0",
      "_model_name": "LayoutModel",
      "_view_count": null,
      "_view_module": "@jupyter-widgets/base",
      "_view_module_version": "1.2.0",
      "_view_name": "LayoutView",
      "align_content": null,
      "align_items": null,
      "align_self": null,
      "border": null,
      "bottom": null,
      "display": null,
      "flex": null,
      "flex_flow": null,
      "grid_area": null,
      "grid_auto_columns": null,
      "grid_auto_flow": null,
      "grid_auto_rows": null,
      "grid_column": null,
      "grid_gap": null,
      "grid_row": null,
      "grid_template_areas": null,
      "grid_template_columns": null,
      "grid_template_rows": null,
      "height": null,
      "justify_content": null,
      "justify_items": null,
      "left": null,
      "margin": null,
      "max_height": null,
      "max_width": null,
      "min_height": null,
      "min_width": null,
      "object_fit": null,
      "object_position": null,
      "order": null,
      "overflow": null,
      "overflow_x": null,
      "overflow_y": null,
      "padding": null,
      "right": null,
      "top": null,
      "visibility": null,
      "width": null
     }
    },
    "5468b976c0d645269d20b54e6dfecea6": {
     "model_module": "@jupyter-widgets/controls",
     "model_module_version": "1.5.0",
     "model_name": "FloatProgressModel",
     "state": {
      "_dom_classes": [],
      "_model_module": "@jupyter-widgets/controls",
      "_model_module_version": "1.5.0",
      "_model_name": "FloatProgressModel",
      "_view_count": null,
      "_view_module": "@jupyter-widgets/controls",
      "_view_module_version": "1.5.0",
      "_view_name": "ProgressView",
      "bar_style": "success",
      "description": "",
      "description_tooltip": null,
      "layout": "IPY_MODEL_135d88c3593b4dc3843463d58565ecfa",
      "max": 8000,
      "min": 0,
      "orientation": "horizontal",
      "style": "IPY_MODEL_ae430255b3b946d2ad97f95ce22f76f0",
      "value": 8000
     }
    },
    "78b7f3a5f2bd47d5be297eff78bf3879": {
     "model_module": "@jupyter-widgets/base",
     "model_module_version": "1.2.0",
     "model_name": "LayoutModel",
     "state": {
      "_model_module": "@jupyter-widgets/base",
      "_model_module_version": "1.2.0",
      "_model_name": "LayoutModel",
      "_view_count": null,
      "_view_module": "@jupyter-widgets/base",
      "_view_module_version": "1.2.0",
      "_view_name": "LayoutView",
      "align_content": null,
      "align_items": null,
      "align_self": null,
      "border": null,
      "bottom": null,
      "display": null,
      "flex": null,
      "flex_flow": null,
      "grid_area": null,
      "grid_auto_columns": null,
      "grid_auto_flow": null,
      "grid_auto_rows": null,
      "grid_column": null,
      "grid_gap": null,
      "grid_row": null,
      "grid_template_areas": null,
      "grid_template_columns": null,
      "grid_template_rows": null,
      "height": null,
      "justify_content": null,
      "justify_items": null,
      "left": null,
      "margin": null,
      "max_height": null,
      "max_width": null,
      "min_height": null,
      "min_width": null,
      "object_fit": null,
      "object_position": null,
      "order": null,
      "overflow": null,
      "overflow_x": null,
      "overflow_y": null,
      "padding": null,
      "right": null,
      "top": null,
      "visibility": null,
      "width": null
     }
    },
    "7fbb6bb429cd4965abb887a793622989": {
     "model_module": "@jupyter-widgets/controls",
     "model_module_version": "1.5.0",
     "model_name": "HTMLModel",
     "state": {
      "_dom_classes": [],
      "_model_module": "@jupyter-widgets/controls",
      "_model_module_version": "1.5.0",
      "_model_name": "HTMLModel",
      "_view_count": null,
      "_view_module": "@jupyter-widgets/controls",
      "_view_module_version": "1.5.0",
      "_view_name": "HTMLView",
      "description": "",
      "description_tooltip": null,
      "layout": "IPY_MODEL_349283cc379a4b3c9d8a3fd3cc25ce75",
      "placeholder": "​",
      "style": "IPY_MODEL_8f10ccfb769648c3b2649875821bcf4c",
      "value": " 8000/8000 [00:01&lt;00:00, 4735.63 examples/s]"
     }
    },
    "8f10ccfb769648c3b2649875821bcf4c": {
     "model_module": "@jupyter-widgets/controls",
     "model_module_version": "1.5.0",
     "model_name": "DescriptionStyleModel",
     "state": {
      "_model_module": "@jupyter-widgets/controls",
      "_model_module_version": "1.5.0",
      "_model_name": "DescriptionStyleModel",
      "_view_count": null,
      "_view_module": "@jupyter-widgets/base",
      "_view_module_version": "1.2.0",
      "_view_name": "StyleView",
      "description_width": ""
     }
    },
    "9d5ca1cc8d3d483cb740cbf50108aa63": {
     "model_module": "@jupyter-widgets/base",
     "model_module_version": "1.2.0",
     "model_name": "LayoutModel",
     "state": {
      "_model_module": "@jupyter-widgets/base",
      "_model_module_version": "1.2.0",
      "_model_name": "LayoutModel",
      "_view_count": null,
      "_view_module": "@jupyter-widgets/base",
      "_view_module_version": "1.2.0",
      "_view_name": "LayoutView",
      "align_content": null,
      "align_items": null,
      "align_self": null,
      "border": null,
      "bottom": null,
      "display": null,
      "flex": null,
      "flex_flow": null,
      "grid_area": null,
      "grid_auto_columns": null,
      "grid_auto_flow": null,
      "grid_auto_rows": null,
      "grid_column": null,
      "grid_gap": null,
      "grid_row": null,
      "grid_template_areas": null,
      "grid_template_columns": null,
      "grid_template_rows": null,
      "height": null,
      "justify_content": null,
      "justify_items": null,
      "left": null,
      "margin": null,
      "max_height": null,
      "max_width": null,
      "min_height": null,
      "min_width": null,
      "object_fit": null,
      "object_position": null,
      "order": null,
      "overflow": null,
      "overflow_x": null,
      "overflow_y": null,
      "padding": null,
      "right": null,
      "top": null,
      "visibility": null,
      "width": null
     }
    },
    "ad9d79215e8e45bcb978bb77e7770e2b": {
     "model_module": "@jupyter-widgets/controls",
     "model_module_version": "1.5.0",
     "model_name": "HTMLModel",
     "state": {
      "_dom_classes": [],
      "_model_module": "@jupyter-widgets/controls",
      "_model_module_version": "1.5.0",
      "_model_name": "HTMLModel",
      "_view_count": null,
      "_view_module": "@jupyter-widgets/controls",
      "_view_module_version": "1.5.0",
      "_view_name": "HTMLView",
      "description": "",
      "description_tooltip": null,
      "layout": "IPY_MODEL_29e4b3f37e6d423eb538f63e952a17ed",
      "placeholder": "​",
      "style": "IPY_MODEL_adef131d1c204773937e74d45cb7326c",
      "value": " 23999/23999 [00:03&lt;00:00, 8768.30 examples/s]"
     }
    },
    "adef131d1c204773937e74d45cb7326c": {
     "model_module": "@jupyter-widgets/controls",
     "model_module_version": "1.5.0",
     "model_name": "DescriptionStyleModel",
     "state": {
      "_model_module": "@jupyter-widgets/controls",
      "_model_module_version": "1.5.0",
      "_model_name": "DescriptionStyleModel",
      "_view_count": null,
      "_view_module": "@jupyter-widgets/base",
      "_view_module_version": "1.2.0",
      "_view_name": "StyleView",
      "description_width": ""
     }
    },
    "ae430255b3b946d2ad97f95ce22f76f0": {
     "model_module": "@jupyter-widgets/controls",
     "model_module_version": "1.5.0",
     "model_name": "ProgressStyleModel",
     "state": {
      "_model_module": "@jupyter-widgets/controls",
      "_model_module_version": "1.5.0",
      "_model_name": "ProgressStyleModel",
      "_view_count": null,
      "_view_module": "@jupyter-widgets/base",
      "_view_module_version": "1.2.0",
      "_view_name": "StyleView",
      "bar_color": null,
      "description_width": ""
     }
    },
    "c5493f270ac34e7f91bd41a3b8818e70": {
     "model_module": "@jupyter-widgets/base",
     "model_module_version": "1.2.0",
     "model_name": "LayoutModel",
     "state": {
      "_model_module": "@jupyter-widgets/base",
      "_model_module_version": "1.2.0",
      "_model_name": "LayoutModel",
      "_view_count": null,
      "_view_module": "@jupyter-widgets/base",
      "_view_module_version": "1.2.0",
      "_view_name": "LayoutView",
      "align_content": null,
      "align_items": null,
      "align_self": null,
      "border": null,
      "bottom": null,
      "display": null,
      "flex": null,
      "flex_flow": null,
      "grid_area": null,
      "grid_auto_columns": null,
      "grid_auto_flow": null,
      "grid_auto_rows": null,
      "grid_column": null,
      "grid_gap": null,
      "grid_row": null,
      "grid_template_areas": null,
      "grid_template_columns": null,
      "grid_template_rows": null,
      "height": null,
      "justify_content": null,
      "justify_items": null,
      "left": null,
      "margin": null,
      "max_height": null,
      "max_width": null,
      "min_height": null,
      "min_width": null,
      "object_fit": null,
      "object_position": null,
      "order": null,
      "overflow": null,
      "overflow_x": null,
      "overflow_y": null,
      "padding": null,
      "right": null,
      "top": null,
      "visibility": null,
      "width": null
     }
    },
    "d6aa7f75706f4554920dee5e30d59577": {
     "model_module": "@jupyter-widgets/base",
     "model_module_version": "1.2.0",
     "model_name": "LayoutModel",
     "state": {
      "_model_module": "@jupyter-widgets/base",
      "_model_module_version": "1.2.0",
      "_model_name": "LayoutModel",
      "_view_count": null,
      "_view_module": "@jupyter-widgets/base",
      "_view_module_version": "1.2.0",
      "_view_name": "LayoutView",
      "align_content": null,
      "align_items": null,
      "align_self": null,
      "border": null,
      "bottom": null,
      "display": null,
      "flex": null,
      "flex_flow": null,
      "grid_area": null,
      "grid_auto_columns": null,
      "grid_auto_flow": null,
      "grid_auto_rows": null,
      "grid_column": null,
      "grid_gap": null,
      "grid_row": null,
      "grid_template_areas": null,
      "grid_template_columns": null,
      "grid_template_rows": null,
      "height": null,
      "justify_content": null,
      "justify_items": null,
      "left": null,
      "margin": null,
      "max_height": null,
      "max_width": null,
      "min_height": null,
      "min_width": null,
      "object_fit": null,
      "object_position": null,
      "order": null,
      "overflow": null,
      "overflow_x": null,
      "overflow_y": null,
      "padding": null,
      "right": null,
      "top": null,
      "visibility": null,
      "width": null
     }
    },
    "db9998381d364b638846db9e5a858b1e": {
     "model_module": "@jupyter-widgets/controls",
     "model_module_version": "1.5.0",
     "model_name": "HBoxModel",
     "state": {
      "_dom_classes": [],
      "_model_module": "@jupyter-widgets/controls",
      "_model_module_version": "1.5.0",
      "_model_name": "HBoxModel",
      "_view_count": null,
      "_view_module": "@jupyter-widgets/controls",
      "_view_module_version": "1.5.0",
      "_view_name": "HBoxView",
      "box_style": "",
      "children": [
       "IPY_MODEL_e62171e555044b8aafa218f1b837dfe1",
       "IPY_MODEL_5468b976c0d645269d20b54e6dfecea6",
       "IPY_MODEL_7fbb6bb429cd4965abb887a793622989"
      ],
      "layout": "IPY_MODEL_9d5ca1cc8d3d483cb740cbf50108aa63"
     }
    },
    "e62171e555044b8aafa218f1b837dfe1": {
     "model_module": "@jupyter-widgets/controls",
     "model_module_version": "1.5.0",
     "model_name": "HTMLModel",
     "state": {
      "_dom_classes": [],
      "_model_module": "@jupyter-widgets/controls",
      "_model_module_version": "1.5.0",
      "_model_name": "HTMLModel",
      "_view_count": null,
      "_view_module": "@jupyter-widgets/controls",
      "_view_module_version": "1.5.0",
      "_view_name": "HTMLView",
      "description": "",
      "description_tooltip": null,
      "layout": "IPY_MODEL_c5493f270ac34e7f91bd41a3b8818e70",
      "placeholder": "​",
      "style": "IPY_MODEL_e6ea6d877ce640d5a7abb5a5c0bc5187",
      "value": "Map: 100%"
     }
    },
    "e6ea6d877ce640d5a7abb5a5c0bc5187": {
     "model_module": "@jupyter-widgets/controls",
     "model_module_version": "1.5.0",
     "model_name": "DescriptionStyleModel",
     "state": {
      "_model_module": "@jupyter-widgets/controls",
      "_model_module_version": "1.5.0",
      "_model_name": "DescriptionStyleModel",
      "_view_count": null,
      "_view_module": "@jupyter-widgets/base",
      "_view_module_version": "1.2.0",
      "_view_name": "StyleView",
      "description_width": ""
     }
    },
    "e7e2e586990a4ac3ab13ec3081a5941c": {
     "model_module": "@jupyter-widgets/controls",
     "model_module_version": "1.5.0",
     "model_name": "DescriptionStyleModel",
     "state": {
      "_model_module": "@jupyter-widgets/controls",
      "_model_module_version": "1.5.0",
      "_model_name": "DescriptionStyleModel",
      "_view_count": null,
      "_view_module": "@jupyter-widgets/base",
      "_view_module_version": "1.2.0",
      "_view_name": "StyleView",
      "description_width": ""
     }
    }
   }
  }
 },
 "nbformat": 4,
 "nbformat_minor": 5
}
