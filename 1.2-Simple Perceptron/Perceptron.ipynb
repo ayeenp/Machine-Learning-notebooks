{
 "cells": [
  {
   "cell_type": "markdown",
   "metadata": {
    "id": "y09iFsmx2Vcw"
   },
   "source": [
    "<img src='./pic/sharif-main-logo.png' alt=\"SUT logo\" width=300 height=300 align=left class=\"saturate\" >\n",
    "\n",
    "<div dir=ltr align=center> <font color=0F5298 size=7>     Machine Learning <br> <font color=2565AE size=5>     Faculty of Computer Engineering <br>     Fall 2024 <br> <font color=3C99D size=5> First Practical Exercise - Supervised Learning <br> <font color=696880 size=4> Ayeen Poostforoushan"
   ]
  },
  {
   "cell_type": "markdown",
   "metadata": {
    "id": "y09iFsmx2Vcw"
   },
   "source": [
    "<div dir=ltr>\n",
    "<font size=6>\n",
    "Implementation"
   ]
  },
  {
   "cell_type": "markdown",
   "metadata": {
    "id": "lCUAtWN522T4"
   },
   "source": [
    "<div dir=ltr> <font size=4> Using the `make_blobs` function from the `sklearn` library with the code snippet below, create a dataset that is linearly separable. Each column of the matrix **X** contains the features of a data sample."
   ]
  },
  {
   "cell_type": "code",
   "execution_count": 265,
   "metadata": {
    "id": "sbBYk18H2TVg"
   },
   "outputs": [],
   "source": [
    "from sklearn.datasets import make_blobs\n",
    "X, Y = make_blobs(n_samples=100, n_features=10, centers=2, random_state=41)"
   ]
  },
  {
   "cell_type": "markdown",
   "metadata": {
    "id": "SFi-rRwJ3E3-"
   },
   "source": [
    "<div dir=ltr> <font size=4> First, I create a class named F and implement one of its methods called sign. The methods of this class belong to the class itself, so I define them as static. This class serves as a utility for performing calculations, and in this case, I focus on defining the sign method."
   ]
  },
  {
   "cell_type": "code",
   "execution_count": 266,
   "metadata": {
    "id": "ta3SQGNJ3OeO"
   },
   "outputs": [],
   "source": [
    "class F:\n",
    "  @staticmethod\n",
    "  def sign(x):\n",
    "    return 1 if x >= 0 else 0"
   ]
  },
  {
   "cell_type": "markdown",
   "metadata": {
    "id": "prCJVzUh3Wd5"
   },
   "source": [
    "<div dir=ltr> <font size=4> I implement a class called Perceptron, as shown in the code snippet below. This class stores the weights of our perceptron and computes the output y based on the input X. To initialize the weights and bias, I use the numpy library, which provides a convenient way to handle numerical operations."
   ]
  },
  {
   "cell_type": "code",
   "execution_count": 267,
   "metadata": {
    "id": "FRApiOaV3khr"
   },
   "outputs": [],
   "source": [
    "import numpy as np\n",
    "\n",
    "class Perceptron:\n",
    "  def __init__(self, input_size):\n",
    "    # Initialize the weights and biases of the new model\n",
    "    self.weights = np.random.rand(input_size)\n",
    "    self.bias = np.random.rand(1)\n",
    "\n",
    "  def forward(self, input: np.ndarray):\n",
    "    # Feed input features to your model and return output\n",
    "    return F.sign(input.T @ self.weights + self.bias)"
   ]
  },
  {
   "cell_type": "markdown",
   "metadata": {
    "id": "WF8lQoZA3pgt"
   },
   "source": [
    "<div dir=ltr> <font size=4> Now, I implement the Optimizer class as shown in the code snippet below. This class is responsible for optimizing our model. Specifically, during each learning step, it updates the weights in a direction that aims to minimize errors, ultimately achieving zero error (assuming the data is linearly separable)."
   ]
  },
  {
   "cell_type": "code",
   "execution_count": 268,
   "metadata": {
    "id": "ksQEHkz54HeO"
   },
   "outputs": [],
   "source": [
    "class Optimizer:\n",
    "  def __init__(self, model: Perceptron, learning_rate: float):\n",
    "    self.model = model\n",
    "    self.learning_rate = learning_rate\n",
    "    \n",
    "  def update(self, x, y, y_hat):\n",
    "    # Update the weights and biases of the model\n",
    "    if y_hat != y:\n",
    "        y_coefficient = 1 if y == 1 else -1\n",
    "        self.model.weights += self.learning_rate * y_coefficient * x\n",
    "        self.model.bias += self.learning_rate * y_coefficient"
   ]
  },
  {
   "cell_type": "markdown",
   "metadata": {
    "id": "lHKc8Rpc4KT2"
   },
   "source": [
    "<div dir=ltr> <font size=4> Based on the number of features in the dataset, I create a Perceptron object (this parameter must match the number of features from the first part). Next, I allow the Optimizer to access the model so it can optimize it."
   ]
  },
  {
   "cell_type": "markdown",
   "metadata": {
    "id": "FAwckbDH4TIa"
   },
   "source": [
    "<div dir=ltr> <font size=4> In this part, I implement a suitable process using instances of the Optimizer and Perceptron classes to improve the model's performance. This process helps the model move closer to the separating hyperplane."
   ]
  },
  {
   "cell_type": "code",
   "execution_count": 269,
   "metadata": {
    "id": "vlvPXwMm4QTI"
   },
   "outputs": [],
   "source": [
    "n_iter = 1000\n",
    "model = Perceptron(input_size=10)\n",
    "optimizer = Optimizer(model, learning_rate=0.01)\n",
    "\n",
    "for _ in range(n_iter):\n",
    "    epoch_error_count = 0\n",
    "    for x, y in zip(X, Y):\n",
    "        y_hat = model.forward(x)\n",
    "        \n",
    "        if y_hat != y:\n",
    "            epoch_error_count += 1\n",
    "            \n",
    "        optimizer.update(x, y, y_hat)\n",
    "\n",
    "    if epoch_error_count == 0:\n",
    "        break"
   ]
  },
  {
   "cell_type": "markdown",
   "metadata": {
    "id": "bg5D9ooD4c-_"
   },
   "source": [
    "<div dir=ltr> <font size=4> For n_features equal to 2, I visualize the dataset points and the resulting line from the Perceptron in a 2D space using the Matplotlib library."
   ]
  },
  {
   "cell_type": "code",
   "execution_count": 270,
   "metadata": {},
   "outputs": [
    {
     "name": "stdout",
     "output_type": "stream",
     "text": [
      "Converged in 1 iterations\n"
     ]
    }
   ],
   "source": [
    "X, Y = make_blobs(n_samples=100, n_features=2, centers=2, random_state=41)\n",
    "\n",
    "model_v2 = Perceptron(input_size=2)\n",
    "optimizer_v2 = Optimizer(model_v2, learning_rate=0.01)\n",
    "\n",
    "for _ in range(n_iter):\n",
    "    epoch_error_count = 0\n",
    "    for x, y in zip(X, Y):\n",
    "        y_hat = model_v2.forward(x)\n",
    "        \n",
    "        if y_hat != y:\n",
    "            epoch_error_count += 1\n",
    "        \n",
    "        optimizer_v2.update(x, y, y_hat)\n",
    "        \n",
    "    if epoch_error_count == 0:\n",
    "        print('Converged in', _+1, 'iterations')\n",
    "        break"
   ]
  },
  {
   "cell_type": "code",
   "execution_count": 271,
   "metadata": {},
   "outputs": [
    {
     "data": {
      "image/png": "[encoded data removed]",
      "text/plain": [
       "<Figure size 640x480 with 1 Axes>"
      ]
     },
     "metadata": {},
     "output_type": "display_data"
    }
   ],
   "source": [
    "import matplotlib.pyplot as plt\n",
    "#plot the line too\n",
    "\n",
    "plt.scatter(X[:, 0], X[:, 1], c=Y)\n",
    "plt.xlabel('X1')\n",
    "plt.ylabel('X2')\n",
    "plt.title('Data')\n",
    "\n",
    "x1 = np.linspace(-10, 10, 10)\n",
    "x2 = -model_v2.weights[0] / model_v2.weights[1] * x1 - model_v2.bias / model_v2.weights[1]\n",
    "plt.plot(x1, x2, color='red')\n",
    "\n",
    "plt.show()"
   ]
  }
 ],
 "metadata": {
  "colab": {
   "provenance": []
  },
  "kernelspec": {
   "display_name": "Python 3",
   "language": "python",
   "name": "python3"
  },
  "language_info": {
   "codemirror_mode": {
    "name": "ipython",
    "version": 3
   },
   "file_extension": ".py",
   "mimetype": "text/x-python",
   "name": "python",
   "nbconvert_exporter": "python",
   "pygments_lexer": "ipython3",
   "version": "3.10.12"
  }
 },
 "nbformat": 4,
 "nbformat_minor": 1
}
